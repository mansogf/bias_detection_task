{
 "cells": [
  {
   "cell_type": "markdown",
   "id": "f8e0e7ac",
   "metadata": {
    "ExecuteTime": {
     "end_time": "2021-09-19T21:02:03.486797Z",
     "start_time": "2021-09-19T21:02:03.483741Z"
    }
   },
   "source": [
    "## Dataset Preparation"
   ]
  },
  {
   "cell_type": "code",
   "execution_count": 1,
   "id": "1c9bbcbe",
   "metadata": {
    "ExecuteTime": {
     "end_time": "2021-09-20T23:35:27.235119Z",
     "start_time": "2021-09-20T23:35:22.056781Z"
    }
   },
   "outputs": [],
   "source": [
    "import pandas as pd\n",
    "import seaborn as sns\n",
    "import numpy as np\n",
    "import nltk\n",
    "import re\n",
    "from nltk.stem.porter import PorterStemmer\n",
    "from sklearn.preprocessing import LabelEncoder"
   ]
  },
  {
   "cell_type": "code",
   "execution_count": 2,
   "id": "c2c0bbb9",
   "metadata": {
    "ExecuteTime": {
     "end_time": "2021-09-20T23:35:27.291375Z",
     "start_time": "2021-09-20T23:35:27.240068Z"
    }
   },
   "outputs": [],
   "source": [
    "train_df = pd.read_json(\"./data/bias_articles_train.json\")\n",
    "dev_df = pd.read_json(\"./data/bias_articles_dev.json\")\n",
    "test_df = pd.read_json(\"./data/bias_articles_test.json\")"
   ]
  },
  {
   "cell_type": "code",
   "execution_count": 3,
   "id": "3df2640c",
   "metadata": {
    "ExecuteTime": {
     "end_time": "2021-09-20T23:35:27.301026Z",
     "start_time": "2021-09-20T23:35:27.294992Z"
    }
   },
   "outputs": [],
   "source": [
    "# drop id=175 (all values are NaN)\n",
    "train_df = train_df.dropna().reset_index()"
   ]
  },
  {
   "cell_type": "code",
   "execution_count": 4,
   "id": "180f1082",
   "metadata": {
    "ExecuteTime": {
     "end_time": "2021-09-20T23:35:27.449170Z",
     "start_time": "2021-09-20T23:35:27.303885Z"
    }
   },
   "outputs": [
    {
     "data": {
      "text/plain": [
       "<AxesSubplot:xlabel='bias', ylabel='count'>"
      ]
     },
     "execution_count": 4,
     "metadata": {},
     "output_type": "execute_result"
    },
    {
     "data": {
      "image/png": "[encoded data removed]",
      "text/plain": [
       "<Figure size 432x288 with 1 Axes>"
      ]
     },
     "metadata": {
      "needs_background": "light"
     },
     "output_type": "display_data"
    }
   ],
   "source": [
    "def data_distribution(df):\n",
    "    return sns.countplot(x='bias', data=df)\n",
    "\n",
    "# \"Center\" class proportion is almost 2:1 compared to the others.\n",
    "data_distribution(train_df)"
   ]
  },
  {
   "cell_type": "code",
   "execution_count": 5,
   "id": "62f0d219",
   "metadata": {
    "ExecuteTime": {
     "end_time": "2021-09-20T23:35:30.419524Z",
     "start_time": "2021-09-20T23:35:27.454214Z"
    }
   },
   "outputs": [],
   "source": [
    "def data_cleaning(text):\n",
    "    # Remove symbols and punctuations & apply loxer() to string\n",
    "    formatted_text = re.sub(r\"[^\\w\\s]\", \" \", text).lower()\n",
    "\n",
    "    # Remove stopwords\n",
    "    stopwords = set(nltk.corpus.stopwords.words('english'))\n",
    "    words = [i for i in formatted_text.split() if not i in stopwords]\n",
    "    \n",
    "    # Stemming tokens\n",
    "    word_stem = [PorterStemmer().stem(word) for word in words]\n",
    "    \n",
    "    return (\" \".join(word_stem))\n",
    "\n",
    "def column_concat(df, col1, col2):\n",
    "    return (df[col1] + ' ' + df[col2])\n",
    "    \n",
    "train_df['title_body'] = [data_cleaning(i) for i in column_concat(train_df, 'title', 'body')]\n",
    "dev_df['title_body'] = [data_cleaning(i) for i in column_concat(dev_df, 'title', 'body')]\n",
    "test_df['title_body'] = [data_cleaning(i) for i in column_concat(test_df, 'title', 'body')]"
   ]
  },
  {
   "cell_type": "code",
   "execution_count": 6,
   "id": "ad149421",
   "metadata": {
    "ExecuteTime": {
     "end_time": "2021-09-20T23:35:30.433202Z",
     "start_time": "2021-09-20T23:35:30.421332Z"
    }
   },
   "outputs": [],
   "source": [
    "train_x, dev_x, test_x = train_df['title_body'], dev_df['title_body'], test_df['title_body']\n",
    "train_y, dev_y = LabelEncoder().fit_transform(train_df['bias']), LabelEncoder().fit_transform(dev_df['bias'])"
   ]
  },
  {
   "cell_type": "markdown",
   "id": "469df1df",
   "metadata": {},
   "source": [
    "# Feature Engineering & Model Training & Fine Tuning"
   ]
  },
  {
   "cell_type": "code",
   "execution_count": 7,
   "id": "57c2b357",
   "metadata": {
    "ExecuteTime": {
     "end_time": "2021-09-20T23:35:30.656001Z",
     "start_time": "2021-09-20T23:35:30.435830Z"
    }
   },
   "outputs": [],
   "source": [
    "from sklearn.feature_extraction.text import TfidfVectorizer, CountVectorizer, TfidfTransformer\n",
    "from sklearn.model_selection import GridSearchCV\n",
    "from sklearn.ensemble import RandomForestClassifier\n",
    "from sklearn.naive_bayes import MultinomialNB\n",
    "from sklearn.svm import SVC\n",
    "from sklearn.pipeline import Pipeline\n",
    "from sklearn.model_selection import GridSearchCV\n",
    "from sklearn.metrics import accuracy_score, classification_report"
   ]
  },
  {
   "cell_type": "markdown",
   "id": "18b8c607",
   "metadata": {},
   "source": [
    "## Naive Bayes"
   ]
  },
  {
   "cell_type": "markdown",
   "id": "28a35509",
   "metadata": {},
   "source": [
    "#### Training"
   ]
  },
  {
   "cell_type": "code",
   "execution_count": 8,
   "id": "d4ac2cad",
   "metadata": {
    "ExecuteTime": {
     "end_time": "2021-09-20T23:35:30.812907Z",
     "start_time": "2021-09-20T23:35:30.663404Z"
    }
   },
   "outputs": [
    {
     "data": {
      "text/plain": [
       "Pipeline(steps=[('cv', CountVectorizer()), ('tfidf', TfidfTransformer()),\n",
       "                ('nb_clf', MultinomialNB())])"
      ]
     },
     "execution_count": 8,
     "metadata": {},
     "output_type": "execute_result"
    }
   ],
   "source": [
    "NB_pipe = Pipeline([\n",
    "        ('cv', CountVectorizer()),\n",
    "        ('tfidf', TfidfTransformer()),\n",
    "        ('nb_clf', MultinomialNB())])\n",
    "\n",
    "NB_pipe.fit(train_x, train_y)"
   ]
  },
  {
   "cell_type": "markdown",
   "id": "7639f59b",
   "metadata": {},
   "source": [
    "#### Fine tuning"
   ]
  },
  {
   "cell_type": "code",
   "execution_count": 9,
   "id": "461ad71d",
   "metadata": {
    "ExecuteTime": {
     "end_time": "2021-09-20T23:38:24.613837Z",
     "start_time": "2021-09-20T23:35:30.815202Z"
    },
    "scrolled": true
   },
   "outputs": [
    {
     "name": "stdout",
     "output_type": "stream",
     "text": [
      "Fitting 5 folds for each of 96 candidates, totalling 480 fits\n"
     ]
    }
   ],
   "source": [
    "parameters = {'cv__max_df': (0.25, 0.5, 0.75, 1.0),\n",
    "              'cv__analyzer': ['word', 'char'],\n",
    "              'cv__ngram_range': [(1, 3), (2, 3), (1, 4)],\n",
    "              'tfidf__norm': ('l1', 'l2'),\n",
    "              'tfidf__use_idf': (True, False)}\n",
    "\n",
    "NV_gs = GridSearchCV(NB_pipe, parameters, n_jobs=-1, verbose=3)\n",
    "NV_gs = NV_gs.fit(train_x, train_y)"
   ]
  },
  {
   "cell_type": "code",
   "execution_count": 10,
   "id": "30cf5afe",
   "metadata": {
    "ExecuteTime": {
     "end_time": "2021-09-20T23:38:24.632242Z",
     "start_time": "2021-09-20T23:38:24.622314Z"
    }
   },
   "outputs": [
    {
     "data": {
      "text/plain": [
       "{'cv__analyzer': 'word',\n",
       " 'cv__max_df': 0.25,\n",
       " 'cv__ngram_range': (1, 3),\n",
       " 'tfidf__norm': 'l1',\n",
       " 'tfidf__use_idf': True}"
      ]
     },
     "execution_count": 10,
     "metadata": {},
     "output_type": "execute_result"
    }
   ],
   "source": [
    "NV_gs.best_params_"
   ]
  },
  {
   "cell_type": "code",
   "execution_count": 11,
   "id": "c5dd7373",
   "metadata": {
    "ExecuteTime": {
     "end_time": "2021-09-20T23:38:24.655160Z",
     "start_time": "2021-09-20T23:38:24.637161Z"
    }
   },
   "outputs": [
    {
     "data": {
      "text/plain": [
       "0.4769503546099291"
      ]
     },
     "execution_count": 11,
     "metadata": {},
     "output_type": "execute_result"
    }
   ],
   "source": [
    "NV_gs.best_score_"
   ]
  },
  {
   "cell_type": "markdown",
   "id": "1e0c3652",
   "metadata": {},
   "source": [
    "#### Prediction & Evaluation (with best params)"
   ]
  },
  {
   "cell_type": "code",
   "execution_count": 12,
   "id": "7cf63f1f",
   "metadata": {
    "ExecuteTime": {
     "end_time": "2021-09-20T23:38:25.588707Z",
     "start_time": "2021-09-20T23:38:24.659751Z"
    }
   },
   "outputs": [
    {
     "data": {
      "text/plain": [
       "Pipeline(steps=[('cv', CountVectorizer(max_df=0.25, ngram_range=(1, 3))),\n",
       "                ('tfidf', TfidfTransformer(norm='l1')),\n",
       "                ('nb_clf', MultinomialNB())])"
      ]
     },
     "execution_count": 12,
     "metadata": {},
     "output_type": "execute_result"
    }
   ],
   "source": [
    "best_NB_pipe = Pipeline([\n",
    "        ('cv', CountVectorizer(analyzer='word', max_df=0.25, ngram_range=(1,3))),\n",
    "        ('tfidf', TfidfTransformer(norm='l1', use_idf=True)),\n",
    "        ('nb_clf', MultinomialNB())])\n",
    "\n",
    "best_NB_pipe.fit(train_x, train_y)"
   ]
  },
  {
   "cell_type": "code",
   "execution_count": 13,
   "id": "91dc4800",
   "metadata": {
    "ExecuteTime": {
     "end_time": "2021-09-20T23:38:25.638886Z",
     "start_time": "2021-09-20T23:38:25.590661Z"
    }
   },
   "outputs": [
    {
     "name": "stdout",
     "output_type": "stream",
     "text": [
      "[0 0 0 0 0 0 0 0 0 0 0 0 0 0 0 0 0 0 0 0 0 0 0 0 0 0 0 0 0 0]\n"
     ]
    }
   ],
   "source": [
    "NB_pred = best_NB_pipe.predict(dev_x)\n",
    "print(NB_pred)"
   ]
  },
  {
   "cell_type": "code",
   "execution_count": 14,
   "id": "910fd56b",
   "metadata": {
    "ExecuteTime": {
     "end_time": "2021-09-20T23:38:25.689776Z",
     "start_time": "2021-09-20T23:38:25.654122Z"
    }
   },
   "outputs": [
    {
     "name": "stdout",
     "output_type": "stream",
     "text": [
      "              precision    recall  f1-score   support\n",
      "\n",
      "           0       1.00      0.50      0.67        30\n",
      "           1       0.00      0.00      0.00         0\n",
      "           2       0.00      0.00      0.00         0\n",
      "\n",
      "    accuracy                           0.50        30\n",
      "   macro avg       0.33      0.17      0.22        30\n",
      "weighted avg       1.00      0.50      0.67        30\n",
      "\n"
     ]
    },
    {
     "name": "stderr",
     "output_type": "stream",
     "text": [
      "/usr/local/lib/python3.9/site-packages/sklearn/metrics/_classification.py:1248: UndefinedMetricWarning: Recall and F-score are ill-defined and being set to 0.0 in labels with no true samples. Use `zero_division` parameter to control this behavior.\n",
      "  _warn_prf(average, modifier, msg_start, len(result))\n",
      "/usr/local/lib/python3.9/site-packages/sklearn/metrics/_classification.py:1248: UndefinedMetricWarning: Recall and F-score are ill-defined and being set to 0.0 in labels with no true samples. Use `zero_division` parameter to control this behavior.\n",
      "  _warn_prf(average, modifier, msg_start, len(result))\n",
      "/usr/local/lib/python3.9/site-packages/sklearn/metrics/_classification.py:1248: UndefinedMetricWarning: Recall and F-score are ill-defined and being set to 0.0 in labels with no true samples. Use `zero_division` parameter to control this behavior.\n",
      "  _warn_prf(average, modifier, msg_start, len(result))\n"
     ]
    }
   ],
   "source": [
    "print(classification_report(NB_pred, dev_y))"
   ]
  },
  {
   "cell_type": "markdown",
   "id": "c3ad70aa",
   "metadata": {},
   "source": [
    "## SVM"
   ]
  },
  {
   "cell_type": "markdown",
   "id": "94525301",
   "metadata": {},
   "source": [
    "#### Training"
   ]
  },
  {
   "cell_type": "code",
   "execution_count": 15,
   "id": "6eb6c7d8",
   "metadata": {
    "ExecuteTime": {
     "end_time": "2021-09-20T23:38:25.997513Z",
     "start_time": "2021-09-20T23:38:25.698080Z"
    }
   },
   "outputs": [
    {
     "data": {
      "text/plain": [
       "Pipeline(steps=[('cv', CountVectorizer()), ('svm_clf', SVC(kernel='poly'))])"
      ]
     },
     "execution_count": 15,
     "metadata": {},
     "output_type": "execute_result"
    }
   ],
   "source": [
    "SVM_pipe = Pipeline([\n",
    "        ('cv', CountVectorizer()),\n",
    "        ('svm_clf', SVC(kernel='poly', degree=3))])\n",
    "\n",
    "SVM_pipe.fit(train_x, train_y)"
   ]
  },
  {
   "cell_type": "markdown",
   "id": "d16087e4",
   "metadata": {},
   "source": [
    "#### Fine tuning"
   ]
  },
  {
   "cell_type": "code",
   "execution_count": 16,
   "id": "7699c32f",
   "metadata": {
    "ExecuteTime": {
     "end_time": "2021-09-20T23:38:55.288042Z",
     "start_time": "2021-09-20T23:38:26.000330Z"
    }
   },
   "outputs": [
    {
     "name": "stdout",
     "output_type": "stream",
     "text": [
      "Fitting 5 folds for each of 80 candidates, totalling 400 fits\n"
     ]
    }
   ],
   "source": [
    "parameters = {'cv__max_df': (0.5, 0.75),\n",
    "              'cv__analyzer': ['word', 'char'],\n",
    "              'svm_clf__C': (0.5, 0.75, 1, 1.25, 1.5),\n",
    "              'svm_clf__class_weight': [None, 'balanced'],\n",
    "              'svm_clf__gamma': ['auto', 'scale']\n",
    "}\n",
    "\n",
    "SVM_gs = GridSearchCV(SVM_pipe, parameters, n_jobs=-1, verbose=3)\n",
    "SVM_gs = SVM_gs.fit(train_x, train_y)"
   ]
  },
  {
   "cell_type": "code",
   "execution_count": 17,
   "id": "ef31b7bf",
   "metadata": {
    "ExecuteTime": {
     "end_time": "2021-09-20T23:38:55.316852Z",
     "start_time": "2021-09-20T23:38:55.290442Z"
    }
   },
   "outputs": [
    {
     "data": {
      "text/plain": [
       "{'cv__analyzer': 'char',\n",
       " 'cv__max_df': 0.75,\n",
       " 'svm_clf__C': 1.25,\n",
       " 'svm_clf__class_weight': None,\n",
       " 'svm_clf__gamma': 'scale'}"
      ]
     },
     "execution_count": 17,
     "metadata": {},
     "output_type": "execute_result"
    }
   ],
   "source": [
    "SVM_gs.best_params_"
   ]
  },
  {
   "cell_type": "code",
   "execution_count": 18,
   "id": "dbaf7d13",
   "metadata": {
    "ExecuteTime": {
     "end_time": "2021-09-20T23:38:55.326158Z",
     "start_time": "2021-09-20T23:38:55.320204Z"
    }
   },
   "outputs": [
    {
     "data": {
      "text/plain": [
       "0.4812943262411348"
      ]
     },
     "execution_count": 18,
     "metadata": {},
     "output_type": "execute_result"
    }
   ],
   "source": [
    "SVM_gs.best_score_"
   ]
  },
  {
   "cell_type": "markdown",
   "id": "bdf13607",
   "metadata": {},
   "source": [
    "#### Prediction & Evaluation (with best params)"
   ]
  },
  {
   "cell_type": "code",
   "execution_count": 19,
   "id": "96da36fb",
   "metadata": {
    "ExecuteTime": {
     "end_time": "2021-09-20T23:38:55.500147Z",
     "start_time": "2021-09-20T23:38:55.332004Z"
    }
   },
   "outputs": [
    {
     "data": {
      "text/plain": [
       "Pipeline(steps=[('cv', CountVectorizer(analyzer='char', max_df=0.75)),\n",
       "                ('svm_clf', SVC(C=1.25, kernel='poly'))])"
      ]
     },
     "execution_count": 19,
     "metadata": {},
     "output_type": "execute_result"
    }
   ],
   "source": [
    "best_SVM_pipe = Pipeline([\n",
    "        ('cv', CountVectorizer(analyzer='char', max_df=0.75)),\n",
    "        ('svm_clf', SVC(kernel='poly', degree=3, gamma='scale', C=1.25))])\n",
    "\n",
    "best_SVM_pipe.fit(train_x, train_y)"
   ]
  },
  {
   "cell_type": "code",
   "execution_count": 20,
   "id": "c8e42825",
   "metadata": {
    "ExecuteTime": {
     "end_time": "2021-09-20T23:38:55.587362Z",
     "start_time": "2021-09-20T23:38:55.518669Z"
    }
   },
   "outputs": [
    {
     "name": "stdout",
     "output_type": "stream",
     "text": [
      "[1 0 0 0 0 0 0 0 0 0 2 0 0 0 0 1 0 0 0 0 2 0 0 0 0 0 0 0 0 0]\n"
     ]
    }
   ],
   "source": [
    "SVM_pred = best_SVM_pipe.predict(dev_x)\n",
    "print(SVM_pred)"
   ]
  },
  {
   "cell_type": "code",
   "execution_count": 21,
   "id": "9c623533",
   "metadata": {
    "ExecuteTime": {
     "end_time": "2021-09-20T23:38:55.605784Z",
     "start_time": "2021-09-20T23:38:55.592732Z"
    }
   },
   "outputs": [
    {
     "name": "stdout",
     "output_type": "stream",
     "text": [
      "              precision    recall  f1-score   support\n",
      "\n",
      "           0       0.80      0.46      0.59        26\n",
      "           1       0.00      0.00      0.00         2\n",
      "           2       0.14      0.50      0.22         2\n",
      "\n",
      "    accuracy                           0.43        30\n",
      "   macro avg       0.31      0.32      0.27        30\n",
      "weighted avg       0.70      0.43      0.52        30\n",
      "\n"
     ]
    }
   ],
   "source": [
    "print(classification_report(SVM_pred, dev_y))"
   ]
  },
  {
   "cell_type": "markdown",
   "id": "e685e92b",
   "metadata": {},
   "source": [
    "## Random Forest"
   ]
  },
  {
   "cell_type": "markdown",
   "id": "9cd3ac0e",
   "metadata": {},
   "source": [
    "#### Training (Random Forest on Count Vectors)"
   ]
  },
  {
   "cell_type": "code",
   "execution_count": 22,
   "id": "3eed4e3b",
   "metadata": {
    "ExecuteTime": {
     "end_time": "2021-09-20T23:38:55.963284Z",
     "start_time": "2021-09-20T23:38:55.608502Z"
    }
   },
   "outputs": [
    {
     "data": {
      "text/plain": [
       "Pipeline(steps=[('cv', CountVectorizer()),\n",
       "                ('rf_clf', RandomForestClassifier())])"
      ]
     },
     "execution_count": 22,
     "metadata": {},
     "output_type": "execute_result"
    }
   ],
   "source": [
    "RF_cv_pipe = Pipeline([\n",
    "        ('cv', CountVectorizer()),\n",
    "        ('rf_clf', RandomForestClassifier())])\n",
    "\n",
    "RF_cv_pipe.fit(train_x, train_y)"
   ]
  },
  {
   "cell_type": "markdown",
   "id": "b461af55",
   "metadata": {},
   "source": [
    "#### Fine Tuning (Random Forest on Count Vectors)"
   ]
  },
  {
   "cell_type": "code",
   "execution_count": 23,
   "id": "430a7527",
   "metadata": {
    "ExecuteTime": {
     "end_time": "2021-09-20T23:39:53.354258Z",
     "start_time": "2021-09-20T23:38:55.966970Z"
    }
   },
   "outputs": [
    {
     "name": "stdout",
     "output_type": "stream",
     "text": [
      "Fitting 5 folds for each of 96 candidates, totalling 480 fits\n"
     ]
    }
   ],
   "source": [
    "parameters = {'cv__max_df': (0.5, 0.75, 1.0),\n",
    "              'cv__analyzer': ['word', 'char'],\n",
    "              'rf_clf__max_features': ['auto', 'sqrt'],\n",
    "              'rf_clf__max_depth': (4,6,8,10),\n",
    "              'rf_clf__class_weight': [None, 'balanced']\n",
    "}\n",
    "\n",
    "RF_cv_gs = GridSearchCV(RF_cv_pipe, parameters, n_jobs=-1, verbose=3)\n",
    "RF_cv_gs = RF_cv_gs.fit(train_x, train_y)"
   ]
  },
  {
   "cell_type": "code",
   "execution_count": 24,
   "id": "48881c46",
   "metadata": {
    "ExecuteTime": {
     "end_time": "2021-09-20T23:39:53.361213Z",
     "start_time": "2021-09-20T23:39:53.356075Z"
    }
   },
   "outputs": [
    {
     "data": {
      "text/plain": [
       "{'cv__analyzer': 'char',\n",
       " 'cv__max_df': 0.75,\n",
       " 'rf_clf__class_weight': None,\n",
       " 'rf_clf__max_depth': 4,\n",
       " 'rf_clf__max_features': 'auto'}"
      ]
     },
     "execution_count": 24,
     "metadata": {},
     "output_type": "execute_result"
    }
   ],
   "source": [
    "RF_cv_gs.best_params_"
   ]
  },
  {
   "cell_type": "code",
   "execution_count": 25,
   "id": "75e5bc25",
   "metadata": {
    "ExecuteTime": {
     "end_time": "2021-09-20T23:39:53.378472Z",
     "start_time": "2021-09-20T23:39:53.366291Z"
    }
   },
   "outputs": [
    {
     "data": {
      "text/plain": [
       "0.48953900709219866"
      ]
     },
     "execution_count": 25,
     "metadata": {},
     "output_type": "execute_result"
    }
   ],
   "source": [
    "RF_cv_gs.best_score_"
   ]
  },
  {
   "cell_type": "markdown",
   "id": "a00f1350",
   "metadata": {},
   "source": [
    "#### Prediction & Evaluation (with best params - Random Forest on Count Vectors)"
   ]
  },
  {
   "cell_type": "code",
   "execution_count": 26,
   "id": "5dc1b777",
   "metadata": {
    "ExecuteTime": {
     "end_time": "2021-09-20T23:39:53.766346Z",
     "start_time": "2021-09-20T23:39:53.383938Z"
    }
   },
   "outputs": [
    {
     "data": {
      "text/plain": [
       "Pipeline(steps=[('cv', CountVectorizer(max_df=0.75)),\n",
       "                ('rf_clf',\n",
       "                 RandomForestClassifier(class_weight='balanced',\n",
       "                                        max_depth=10))])"
      ]
     },
     "execution_count": 26,
     "metadata": {},
     "output_type": "execute_result"
    }
   ],
   "source": [
    "best_RF_cv_pipe = Pipeline([\n",
    "        ('cv', CountVectorizer(max_df=0.75, analyzer='word')),\n",
    "        ('rf_clf', RandomForestClassifier(class_weight='balanced', max_depth=10, max_features='auto'))])\n",
    "\n",
    "best_RF_cv_pipe.fit(train_x, train_y)"
   ]
  },
  {
   "cell_type": "code",
   "execution_count": 27,
   "id": "4bb0e4bf",
   "metadata": {
    "ExecuteTime": {
     "end_time": "2021-09-20T23:39:53.800172Z",
     "start_time": "2021-09-20T23:39:53.768899Z"
    }
   },
   "outputs": [
    {
     "name": "stdout",
     "output_type": "stream",
     "text": [
      "[0 2 0 0 0 1 0 0 0 2 0 2 0 0 0 1 0 2 0 0 1 0 0 0 0 0 0 0 0 0]\n"
     ]
    }
   ],
   "source": [
    "RF_cv_pred = best_RF_cv_pipe.predict(dev_x)\n",
    "print(RF_cv_pred)"
   ]
  },
  {
   "cell_type": "code",
   "execution_count": 28,
   "id": "72676589",
   "metadata": {
    "ExecuteTime": {
     "end_time": "2021-09-20T23:39:53.837783Z",
     "start_time": "2021-09-20T23:39:53.810994Z"
    }
   },
   "outputs": [
    {
     "name": "stdout",
     "output_type": "stream",
     "text": [
      "              precision    recall  f1-score   support\n",
      "\n",
      "           0       0.73      0.48      0.58        23\n",
      "           1       0.00      0.00      0.00         3\n",
      "           2       0.00      0.00      0.00         4\n",
      "\n",
      "    accuracy                           0.37        30\n",
      "   macro avg       0.24      0.16      0.19        30\n",
      "weighted avg       0.56      0.37      0.44        30\n",
      "\n"
     ]
    }
   ],
   "source": [
    "print(classification_report(RF_cv_pred, dev_y))"
   ]
  },
  {
   "cell_type": "markdown",
   "id": "f60867d3",
   "metadata": {},
   "source": [
    "#### Training (Random Forest on TF IDF Vectors, Ngram Level)"
   ]
  },
  {
   "cell_type": "code",
   "execution_count": 29,
   "id": "41cc6566",
   "metadata": {
    "ExecuteTime": {
     "end_time": "2021-09-20T23:39:55.135180Z",
     "start_time": "2021-09-20T23:39:53.853752Z"
    }
   },
   "outputs": [
    {
     "data": {
      "text/plain": [
       "Pipeline(steps=[('tfidf', TfidfVectorizer(ngram_range=(2, 3))),\n",
       "                ('rf_clf', RandomForestClassifier())])"
      ]
     },
     "execution_count": 29,
     "metadata": {},
     "output_type": "execute_result"
    }
   ],
   "source": [
    "RF_tfidf_pipe = Pipeline([\n",
    "        ('tfidf', TfidfVectorizer(ngram_range=(2, 3), analyzer='word')),\n",
    "        ('rf_clf', RandomForestClassifier())])\n",
    "\n",
    "RF_tfidf_pipe.fit(train_x, train_y)"
   ]
  },
  {
   "cell_type": "markdown",
   "id": "6e612020",
   "metadata": {},
   "source": [
    "#### Fine Tuning (Random Forest on TF IDF Vectors, Ngram Level)"
   ]
  },
  {
   "cell_type": "code",
   "execution_count": 30,
   "id": "740fbf8d",
   "metadata": {
    "ExecuteTime": {
     "end_time": "2021-09-20T23:41:38.599393Z",
     "start_time": "2021-09-20T23:39:55.138754Z"
    }
   },
   "outputs": [
    {
     "name": "stdout",
     "output_type": "stream",
     "text": [
      "Fitting 5 folds for each of 60 candidates, totalling 300 fits\n"
     ]
    }
   ],
   "source": [
    "parameters = {'tfidf__max_df': (0.25, 0.5, 0.75),\n",
    "              'rf_clf__max_features': ['auto', 'sqrt'],\n",
    "              'rf_clf__class_weight': [None, 'balanced'],\n",
    "              'rf_clf__max_depth': (4,6,8,10,12)\n",
    "}\n",
    "\n",
    "RF_tfidf_gs = GridSearchCV(RF_tfidf_pipe, parameters, n_jobs=-1, verbose=3)\n",
    "RF_tfidf_gs= RF_tfidf_gs.fit(train_x, train_y)"
   ]
  },
  {
   "cell_type": "code",
   "execution_count": 31,
   "id": "d6bfa5f4",
   "metadata": {
    "ExecuteTime": {
     "end_time": "2021-09-20T23:41:38.608890Z",
     "start_time": "2021-09-20T23:41:38.601936Z"
    }
   },
   "outputs": [
    {
     "data": {
      "text/plain": [
       "{'rf_clf__class_weight': 'balanced',\n",
       " 'rf_clf__max_depth': 6,\n",
       " 'rf_clf__max_features': 'auto',\n",
       " 'tfidf__max_df': 0.75}"
      ]
     },
     "execution_count": 31,
     "metadata": {},
     "output_type": "execute_result"
    }
   ],
   "source": [
    "RF_tfidf_gs.best_params_"
   ]
  },
  {
   "cell_type": "code",
   "execution_count": 32,
   "id": "b16c8581",
   "metadata": {
    "ExecuteTime": {
     "end_time": "2021-09-20T23:41:38.621113Z",
     "start_time": "2021-09-20T23:41:38.614854Z"
    }
   },
   "outputs": [
    {
     "data": {
      "text/plain": [
       "0.5061170212765957"
      ]
     },
     "execution_count": 32,
     "metadata": {},
     "output_type": "execute_result"
    }
   ],
   "source": [
    "RF_tfidf_gs.best_score_"
   ]
  },
  {
   "cell_type": "markdown",
   "id": "c75736d0",
   "metadata": {},
   "source": [
    "#### Prediction & Evaluation (with best params - Random Forest on TF IDF Vectors, Ngram Level))"
   ]
  },
  {
   "cell_type": "code",
   "execution_count": 33,
   "id": "6495b4bd",
   "metadata": {
    "ExecuteTime": {
     "end_time": "2021-09-20T23:41:39.013162Z",
     "start_time": "2021-09-20T23:41:38.623647Z"
    }
   },
   "outputs": [
    {
     "data": {
      "text/plain": [
       "Pipeline(steps=[('tfidf', TfidfVectorizer(max_df=0.75)),\n",
       "                ('rf_clf',\n",
       "                 RandomForestClassifier(class_weight='balanced',\n",
       "                                        max_depth=12))])"
      ]
     },
     "execution_count": 33,
     "metadata": {},
     "output_type": "execute_result"
    }
   ],
   "source": [
    "best_RF_tfidf_pipe = Pipeline([\n",
    "        ('tfidf', TfidfVectorizer(max_df=0.75)),\n",
    "        ('rf_clf', RandomForestClassifier(class_weight='balanced', max_features='auto', max_depth=12))])\n",
    "\n",
    "best_RF_tfidf_pipe.fit(train_x, train_y)"
   ]
  },
  {
   "cell_type": "code",
   "execution_count": 34,
   "id": "a2e7e3f9",
   "metadata": {
    "ExecuteTime": {
     "end_time": "2021-09-20T23:41:39.079735Z",
     "start_time": "2021-09-20T23:41:39.031678Z"
    }
   },
   "outputs": [
    {
     "name": "stdout",
     "output_type": "stream",
     "text": [
      "[0 0 0 0 2 0 0 0 2 2 0 2 0 0 0 0 0 0 0 0 2 0 0 2 0 0 1 0 0 2]\n"
     ]
    }
   ],
   "source": [
    "RF_tfidf_pred = best_RF_tfidf_pipe.predict(dev_x)\n",
    "print(RF_tfidf_pred)"
   ]
  },
  {
   "cell_type": "code",
   "execution_count": 35,
   "id": "7a7e8172",
   "metadata": {
    "ExecuteTime": {
     "end_time": "2021-09-20T23:41:39.105706Z",
     "start_time": "2021-09-20T23:41:39.084388Z"
    }
   },
   "outputs": [
    {
     "name": "stdout",
     "output_type": "stream",
     "text": [
      "              precision    recall  f1-score   support\n",
      "\n",
      "           0       0.73      0.50      0.59        22\n",
      "           1       0.00      0.00      0.00         1\n",
      "           2       0.29      0.29      0.29         7\n",
      "\n",
      "    accuracy                           0.43        30\n",
      "   macro avg       0.34      0.26      0.29        30\n",
      "weighted avg       0.60      0.43      0.50        30\n",
      "\n"
     ]
    }
   ],
   "source": [
    "print(classification_report(RF_tfidf_pred, dev_y))"
   ]
  },
  {
   "cell_type": "markdown",
   "id": "ba1c3380",
   "metadata": {},
   "source": [
    "## Test set label prediction"
   ]
  },
  {
   "cell_type": "code",
   "execution_count": 45,
   "id": "29d7e523",
   "metadata": {
    "ExecuteTime": {
     "end_time": "2021-09-20T23:42:31.668330Z",
     "start_time": "2021-09-20T23:42:31.389102Z"
    }
   },
   "outputs": [
    {
     "data": {
      "text/plain": [
       "Pipeline(steps=[('cv', CountVectorizer(max_df=0.75)),\n",
       "                ('rf_clf',\n",
       "                 RandomForestClassifier(class_weight='balanced',\n",
       "                                        max_depth=10))])"
      ]
     },
     "execution_count": 45,
     "metadata": {},
     "output_type": "execute_result"
    }
   ],
   "source": [
    "best_RF_cv_pipe = Pipeline([\n",
    "        ('cv', CountVectorizer(max_df=0.75, analyzer='word')),\n",
    "        ('rf_clf', RandomForestClassifier(class_weight='balanced', max_depth=10, max_features='auto'))])\n",
    "\n",
    "best_RF_cv_pipe.fit(train_x, train_y)"
   ]
  },
  {
   "cell_type": "code",
   "execution_count": 46,
   "id": "9e4cc9bb",
   "metadata": {
    "ExecuteTime": {
     "end_time": "2021-09-20T23:42:32.932152Z",
     "start_time": "2021-09-20T23:42:32.903531Z"
    }
   },
   "outputs": [
    {
     "name": "stdout",
     "output_type": "stream",
     "text": [
      "[0 2 0 0 0 0 0 0 0 0 1 0 2 2 0 0 0 0 0 2 1 0 0 0 0 0 0 0 0 2]\n"
     ]
    }
   ],
   "source": [
    "RF_cv_pred = best_RF_cv_pipe.predict(test_x)\n",
    "print(RF_cv_pred)"
   ]
  },
  {
   "cell_type": "code",
   "execution_count": 47,
   "id": "b4a0d8ca",
   "metadata": {
    "ExecuteTime": {
     "end_time": "2021-09-20T23:42:41.203081Z",
     "start_time": "2021-09-20T23:42:41.196214Z"
    }
   },
   "outputs": [],
   "source": [
    "test_df['bias_predicted'] = RF_cv_pred\n",
    "test_df[\"bias_predicted\"].replace({0: \"Center\", 2: \"Right\", 1: \"Left\"}, inplace=True)"
   ]
  },
  {
   "cell_type": "code",
   "execution_count": 48,
   "id": "465d7784",
   "metadata": {
    "ExecuteTime": {
     "end_time": "2021-09-20T23:42:42.076624Z",
     "start_time": "2021-09-20T23:42:42.061826Z"
    }
   },
   "outputs": [
    {
     "data": {
      "text/html": [
       "<div>\n",
       "<style scoped>\n",
       "    .dataframe tbody tr th:only-of-type {\n",
       "        vertical-align: middle;\n",
       "    }\n",
       "\n",
       "    .dataframe tbody tr th {\n",
       "        vertical-align: top;\n",
       "    }\n",
       "\n",
       "    .dataframe thead th {\n",
       "        text-align: right;\n",
       "    }\n",
       "</style>\n",
       "<table border=\"1\" class=\"dataframe\">\n",
       "  <thead>\n",
       "    <tr style=\"text-align: right;\">\n",
       "      <th></th>\n",
       "      <th>body</th>\n",
       "      <th>id</th>\n",
       "      <th>title</th>\n",
       "      <th>title_body</th>\n",
       "      <th>bias_predicted</th>\n",
       "    </tr>\n",
       "  </thead>\n",
       "  <tbody>\n",
       "    <tr>\n",
       "      <th>0</th>\n",
       "      <td>WASHINGTON -- The U.S. Attorney’s office in N...</td>\n",
       "      <td>270</td>\n",
       "      <td>U.S. Attorney Subpoenas Chris Christie Campaig...</td>\n",
       "      <td>u attorney subpoena chri christi campaign docu...</td>\n",
       "      <td>Center</td>\n",
       "    </tr>\n",
       "    <tr>\n",
       "      <th>1</th>\n",
       "      <td>Roger Stone, an eccentric longtime Republican...</td>\n",
       "      <td>271</td>\n",
       "      <td>Trump Associate Roger Stone Indicted In Muelle...</td>\n",
       "      <td>trump associ roger stone indict mueller invest...</td>\n",
       "      <td>Right</td>\n",
       "    </tr>\n",
       "    <tr>\n",
       "      <th>2</th>\n",
       "      <td>Democrats’ landmark campaign finance, voting ...</td>\n",
       "      <td>272</td>\n",
       "      <td>House Democrats Pass Landmark Campaign Finance...</td>\n",
       "      <td>hous democrat pass landmark campaign financ vo...</td>\n",
       "      <td>Center</td>\n",
       "    </tr>\n",
       "    <tr>\n",
       "      <th>3</th>\n",
       "      <td>WASHINGTON -- President Barack Obama on Frida...</td>\n",
       "      <td>273</td>\n",
       "      <td>Obama Defends NSA Programs, Says Congress Knew...</td>\n",
       "      <td>obama defend nsa program say congress knew sur...</td>\n",
       "      <td>Center</td>\n",
       "    </tr>\n",
       "    <tr>\n",
       "      <th>4</th>\n",
       "      <td>WASHINGTON — The lawmakers trotted from their...</td>\n",
       "      <td>274</td>\n",
       "      <td>Shooting Brings Rare Comity to the Capital, bu...</td>\n",
       "      <td>shoot bring rare comiti capit last washington ...</td>\n",
       "      <td>Center</td>\n",
       "    </tr>\n",
       "    <tr>\n",
       "      <th>5</th>\n",
       "      <td>Susan Rice, President Barack Obama's national...</td>\n",
       "      <td>275</td>\n",
       "      <td>Susan Rice: Netanyahu Visit 'Destructive' To U...</td>\n",
       "      <td>susan rice netanyahu visit destruct u israel r...</td>\n",
       "      <td>Center</td>\n",
       "    </tr>\n",
       "    <tr>\n",
       "      <th>6</th>\n",
       "      <td>WASHINGTON — The special counsel, Robert S. M...</td>\n",
       "      <td>276</td>\n",
       "      <td>Indicting Roger Stone, Mueller Shows Link Betw...</td>\n",
       "      <td>indict roger stone mueller show link trump cam...</td>\n",
       "      <td>Center</td>\n",
       "    </tr>\n",
       "    <tr>\n",
       "      <th>7</th>\n",
       "      <td>Mike Huckabee, a former Republican governor o...</td>\n",
       "      <td>277</td>\n",
       "      <td>Mike Huckabee on the Issues</td>\n",
       "      <td>mike huckabe issu mike huckabe former republic...</td>\n",
       "      <td>Center</td>\n",
       "    </tr>\n",
       "    <tr>\n",
       "      <th>8</th>\n",
       "      <td>WASHINGTON ― President Donald Trump’s offer t...</td>\n",
       "      <td>278</td>\n",
       "      <td>Trump's 'Compromise' Immigration Offer To Demo...</td>\n",
       "      <td>trump compromis immigr offer democrat includ m...</td>\n",
       "      <td>Center</td>\n",
       "    </tr>\n",
       "    <tr>\n",
       "      <th>9</th>\n",
       "      <td>The Obama administration found itself defendi...</td>\n",
       "      <td>279</td>\n",
       "      <td>Obama administration defends 2nd mass surveill...</td>\n",
       "      <td>obama administr defend 2nd mass surveil projec...</td>\n",
       "      <td>Center</td>\n",
       "    </tr>\n",
       "    <tr>\n",
       "      <th>10</th>\n",
       "      <td>President Donald Trump tweeted on Thursday th...</td>\n",
       "      <td>280</td>\n",
       "      <td>Trump Says Defense Secretary Jim Mattis Will R...</td>\n",
       "      <td>trump say defens secretari jim matti retir feb...</td>\n",
       "      <td>Left</td>\n",
       "    </tr>\n",
       "    <tr>\n",
       "      <th>11</th>\n",
       "      <td>WASHINGTON — President Trump on Monday said t...</td>\n",
       "      <td>281</td>\n",
       "      <td>F.B.I. 'Destroyed' Flynn’s Life for Lying, Tru...</td>\n",
       "      <td>f b destroy flynn life lie trump say noth happ...</td>\n",
       "      <td>Center</td>\n",
       "    </tr>\n",
       "    <tr>\n",
       "      <th>12</th>\n",
       "      <td>WASHINGTON — AARP, the powerful lobby for old...</td>\n",
       "      <td>282</td>\n",
       "      <td>AARP Open to Social Security Cuts</td>\n",
       "      <td>aarp open social secur cut washington aarp pow...</td>\n",
       "      <td>Right</td>\n",
       "    </tr>\n",
       "    <tr>\n",
       "      <th>13</th>\n",
       "      <td>Former Mexican President Vicente Fox on Wedne...</td>\n",
       "      <td>283</td>\n",
       "      <td>Former Mexican President Vicente Fox Slams Pre...</td>\n",
       "      <td>former mexican presid vicent fox slam presid e...</td>\n",
       "      <td>Right</td>\n",
       "    </tr>\n",
       "    <tr>\n",
       "      <th>14</th>\n",
       "      <td>WASHINGTON — Impeachment was always going to ...</td>\n",
       "      <td>284</td>\n",
       "      <td>Rashida Tlaib's Expletive-Laden Cry to Impeach...</td>\n",
       "      <td>rashida tlaib explet laden cri impeach trump u...</td>\n",
       "      <td>Center</td>\n",
       "    </tr>\n",
       "    <tr>\n",
       "      <th>15</th>\n",
       "      <td>Chris Christie Announces He's Running For Pre...</td>\n",
       "      <td>285</td>\n",
       "      <td>Chris Christie Announces He's Running For Pres...</td>\n",
       "      <td>chri christi announc run presid 2016 chri chri...</td>\n",
       "      <td>Center</td>\n",
       "    </tr>\n",
       "    <tr>\n",
       "      <th>16</th>\n",
       "      <td>Mary Cheney, the younger sister of Liz Cheney...</td>\n",
       "      <td>286</td>\n",
       "      <td>Mary Cheney Criticizes Her Sister on Same-Sex ...</td>\n",
       "      <td>mari cheney critic sister sex marriag mari che...</td>\n",
       "      <td>Center</td>\n",
       "    </tr>\n",
       "    <tr>\n",
       "      <th>17</th>\n",
       "      <td>WASHINGTON — A young Republican congressional...</td>\n",
       "      <td>287</td>\n",
       "      <td>G.O.P. Aide Quits After Ridiculing Obama’s Dau...</td>\n",
       "      <td>g p aid quit ridicul obama daughter sasha mali...</td>\n",
       "      <td>Center</td>\n",
       "    </tr>\n",
       "    <tr>\n",
       "      <th>18</th>\n",
       "      <td>A day after telling reporters that he's \"not ...</td>\n",
       "      <td>288</td>\n",
       "      <td>Anthony Weiner Twitter Photo Scandal: Congress...</td>\n",
       "      <td>anthoni weiner twitter photo scandal congressm...</td>\n",
       "      <td>Center</td>\n",
       "    </tr>\n",
       "    <tr>\n",
       "      <th>19</th>\n",
       "      <td>Paul Ryan went on offense Tuesday in response...</td>\n",
       "      <td>289</td>\n",
       "      <td>Ryan goes on offense over Medicare, accuses Ob...</td>\n",
       "      <td>ryan goe offens medicar accus obama treat prog...</td>\n",
       "      <td>Right</td>\n",
       "    </tr>\n",
       "    <tr>\n",
       "      <th>20</th>\n",
       "      <td>President Trump said he was preparing an exec...</td>\n",
       "      <td>290</td>\n",
       "      <td>President Wants to Use Executive Order to End ...</td>\n",
       "      <td>presid want use execut order end birthright ci...</td>\n",
       "      <td>Left</td>\n",
       "    </tr>\n",
       "    <tr>\n",
       "      <th>21</th>\n",
       "      <td>Republican officials in Alabama staunchly def...</td>\n",
       "      <td>291</td>\n",
       "      <td>Alabama Republicans Defend Roy Moore: ‘It Was ...</td>\n",
       "      <td>alabama republican defend roy moor 40 year ago...</td>\n",
       "      <td>Center</td>\n",
       "    </tr>\n",
       "    <tr>\n",
       "      <th>22</th>\n",
       "      <td>President Trump said Thursday he is “very clo...</td>\n",
       "      <td>292</td>\n",
       "      <td>Joe Lieberman emerges as Trump's top choice fo...</td>\n",
       "      <td>joe lieberman emerg trump top choic fbi direct...</td>\n",
       "      <td>Center</td>\n",
       "    </tr>\n",
       "    <tr>\n",
       "      <th>23</th>\n",
       "      <td>At almost all of his campaign rallies, Donald...</td>\n",
       "      <td>293</td>\n",
       "      <td>Vicente Fox and Felipe Calderón, 2 Ex-Presiden...</td>\n",
       "      <td>vicent fox felip calderón 2 ex presid mexico s...</td>\n",
       "      <td>Center</td>\n",
       "    </tr>\n",
       "    <tr>\n",
       "      <th>24</th>\n",
       "      <td>'Jail!' Trump slams 'crooked' Hillary aide Hu...</td>\n",
       "      <td>294</td>\n",
       "      <td>'Jail!' Trump slams 'crooked' Hillary aide Hum...</td>\n",
       "      <td>jail trump slam crook hillari aid huma call de...</td>\n",
       "      <td>Center</td>\n",
       "    </tr>\n",
       "    <tr>\n",
       "      <th>25</th>\n",
       "      <td>PHOENIX — As the Arizona Legislature sent a b...</td>\n",
       "      <td>295</td>\n",
       "      <td>Governor of Arizona Is Pressed to Veto Bill</td>\n",
       "      <td>governor arizona press veto bill phoenix arizo...</td>\n",
       "      <td>Center</td>\n",
       "    </tr>\n",
       "    <tr>\n",
       "      <th>26</th>\n",
       "      <td>The NAACP adopted a resolution Tuesday condem...</td>\n",
       "      <td>296</td>\n",
       "      <td>NAACP Resolution Calls on Tea Party to Repudia...</td>\n",
       "      <td>naacp resolut call tea parti repudi racist ele...</td>\n",
       "      <td>Center</td>\n",
       "    </tr>\n",
       "    <tr>\n",
       "      <th>27</th>\n",
       "      <td>Former Secretary of State Hillary Clinton use...</td>\n",
       "      <td>297</td>\n",
       "      <td>Hillary Clinton's use of private email address...</td>\n",
       "      <td>hillari clinton use privat email address secre...</td>\n",
       "      <td>Center</td>\n",
       "    </tr>\n",
       "    <tr>\n",
       "      <th>28</th>\n",
       "      <td>One of the highest-profile Republicans in the...</td>\n",
       "      <td>298</td>\n",
       "      <td>Third-Highest Ranking Republican In U.S. House...</td>\n",
       "      <td>third highest rank republican u hous call lega...</td>\n",
       "      <td>Center</td>\n",
       "    </tr>\n",
       "    <tr>\n",
       "      <th>29</th>\n",
       "      <td>The backlash to Indiana's new religious freed...</td>\n",
       "      <td>299</td>\n",
       "      <td>Washington gov, Seattle mayor ban official tra...</td>\n",
       "      <td>washington gov seattl mayor ban offici travel ...</td>\n",
       "      <td>Right</td>\n",
       "    </tr>\n",
       "  </tbody>\n",
       "</table>\n",
       "</div>"
      ],
      "text/plain": [
       "                                                 body   id  \\\n",
       "0    WASHINGTON -- The U.S. Attorney’s office in N...  270   \n",
       "1    Roger Stone, an eccentric longtime Republican...  271   \n",
       "2    Democrats’ landmark campaign finance, voting ...  272   \n",
       "3    WASHINGTON -- President Barack Obama on Frida...  273   \n",
       "4    WASHINGTON — The lawmakers trotted from their...  274   \n",
       "5    Susan Rice, President Barack Obama's national...  275   \n",
       "6    WASHINGTON — The special counsel, Robert S. M...  276   \n",
       "7    Mike Huckabee, a former Republican governor o...  277   \n",
       "8    WASHINGTON ― President Donald Trump’s offer t...  278   \n",
       "9    The Obama administration found itself defendi...  279   \n",
       "10   President Donald Trump tweeted on Thursday th...  280   \n",
       "11   WASHINGTON — President Trump on Monday said t...  281   \n",
       "12   WASHINGTON — AARP, the powerful lobby for old...  282   \n",
       "13   Former Mexican President Vicente Fox on Wedne...  283   \n",
       "14   WASHINGTON — Impeachment was always going to ...  284   \n",
       "15   Chris Christie Announces He's Running For Pre...  285   \n",
       "16   Mary Cheney, the younger sister of Liz Cheney...  286   \n",
       "17   WASHINGTON — A young Republican congressional...  287   \n",
       "18   A day after telling reporters that he's \"not ...  288   \n",
       "19   Paul Ryan went on offense Tuesday in response...  289   \n",
       "20   President Trump said he was preparing an exec...  290   \n",
       "21   Republican officials in Alabama staunchly def...  291   \n",
       "22   President Trump said Thursday he is “very clo...  292   \n",
       "23   At almost all of his campaign rallies, Donald...  293   \n",
       "24   'Jail!' Trump slams 'crooked' Hillary aide Hu...  294   \n",
       "25   PHOENIX — As the Arizona Legislature sent a b...  295   \n",
       "26   The NAACP adopted a resolution Tuesday condem...  296   \n",
       "27   Former Secretary of State Hillary Clinton use...  297   \n",
       "28   One of the highest-profile Republicans in the...  298   \n",
       "29   The backlash to Indiana's new religious freed...  299   \n",
       "\n",
       "                                                title  \\\n",
       "0   U.S. Attorney Subpoenas Chris Christie Campaig...   \n",
       "1   Trump Associate Roger Stone Indicted In Muelle...   \n",
       "2   House Democrats Pass Landmark Campaign Finance...   \n",
       "3   Obama Defends NSA Programs, Says Congress Knew...   \n",
       "4   Shooting Brings Rare Comity to the Capital, bu...   \n",
       "5   Susan Rice: Netanyahu Visit 'Destructive' To U...   \n",
       "6   Indicting Roger Stone, Mueller Shows Link Betw...   \n",
       "7                         Mike Huckabee on the Issues   \n",
       "8   Trump's 'Compromise' Immigration Offer To Demo...   \n",
       "9   Obama administration defends 2nd mass surveill...   \n",
       "10  Trump Says Defense Secretary Jim Mattis Will R...   \n",
       "11  F.B.I. 'Destroyed' Flynn’s Life for Lying, Tru...   \n",
       "12                  AARP Open to Social Security Cuts   \n",
       "13  Former Mexican President Vicente Fox Slams Pre...   \n",
       "14  Rashida Tlaib's Expletive-Laden Cry to Impeach...   \n",
       "15  Chris Christie Announces He's Running For Pres...   \n",
       "16  Mary Cheney Criticizes Her Sister on Same-Sex ...   \n",
       "17  G.O.P. Aide Quits After Ridiculing Obama’s Dau...   \n",
       "18  Anthony Weiner Twitter Photo Scandal: Congress...   \n",
       "19  Ryan goes on offense over Medicare, accuses Ob...   \n",
       "20  President Wants to Use Executive Order to End ...   \n",
       "21  Alabama Republicans Defend Roy Moore: ‘It Was ...   \n",
       "22  Joe Lieberman emerges as Trump's top choice fo...   \n",
       "23  Vicente Fox and Felipe Calderón, 2 Ex-Presiden...   \n",
       "24  'Jail!' Trump slams 'crooked' Hillary aide Hum...   \n",
       "25        Governor of Arizona Is Pressed to Veto Bill   \n",
       "26  NAACP Resolution Calls on Tea Party to Repudia...   \n",
       "27  Hillary Clinton's use of private email address...   \n",
       "28  Third-Highest Ranking Republican In U.S. House...   \n",
       "29  Washington gov, Seattle mayor ban official tra...   \n",
       "\n",
       "                                           title_body bias_predicted  \n",
       "0   u attorney subpoena chri christi campaign docu...         Center  \n",
       "1   trump associ roger stone indict mueller invest...          Right  \n",
       "2   hous democrat pass landmark campaign financ vo...         Center  \n",
       "3   obama defend nsa program say congress knew sur...         Center  \n",
       "4   shoot bring rare comiti capit last washington ...         Center  \n",
       "5   susan rice netanyahu visit destruct u israel r...         Center  \n",
       "6   indict roger stone mueller show link trump cam...         Center  \n",
       "7   mike huckabe issu mike huckabe former republic...         Center  \n",
       "8   trump compromis immigr offer democrat includ m...         Center  \n",
       "9   obama administr defend 2nd mass surveil projec...         Center  \n",
       "10  trump say defens secretari jim matti retir feb...           Left  \n",
       "11  f b destroy flynn life lie trump say noth happ...         Center  \n",
       "12  aarp open social secur cut washington aarp pow...          Right  \n",
       "13  former mexican presid vicent fox slam presid e...          Right  \n",
       "14  rashida tlaib explet laden cri impeach trump u...         Center  \n",
       "15  chri christi announc run presid 2016 chri chri...         Center  \n",
       "16  mari cheney critic sister sex marriag mari che...         Center  \n",
       "17  g p aid quit ridicul obama daughter sasha mali...         Center  \n",
       "18  anthoni weiner twitter photo scandal congressm...         Center  \n",
       "19  ryan goe offens medicar accus obama treat prog...          Right  \n",
       "20  presid want use execut order end birthright ci...           Left  \n",
       "21  alabama republican defend roy moor 40 year ago...         Center  \n",
       "22  joe lieberman emerg trump top choic fbi direct...         Center  \n",
       "23  vicent fox felip calderón 2 ex presid mexico s...         Center  \n",
       "24  jail trump slam crook hillari aid huma call de...         Center  \n",
       "25  governor arizona press veto bill phoenix arizo...         Center  \n",
       "26  naacp resolut call tea parti repudi racist ele...         Center  \n",
       "27  hillari clinton use privat email address secre...         Center  \n",
       "28  third highest rank republican u hous call lega...         Center  \n",
       "29  washington gov seattl mayor ban offici travel ...          Right  "
      ]
     },
     "execution_count": 48,
     "metadata": {},
     "output_type": "execute_result"
    }
   ],
   "source": [
    "test_df"
   ]
  },
  {
   "cell_type": "code",
   "execution_count": 49,
   "id": "0349989a",
   "metadata": {
    "ExecuteTime": {
     "end_time": "2021-09-20T23:42:58.657578Z",
     "start_time": "2021-09-20T23:42:58.639110Z"
    }
   },
   "outputs": [],
   "source": [
    "test_df.to_csv('data/pred/bias_articles_test_pred_v2.csv',\n",
    "               columns=['bias_predicted', 'id', 'title', 'body'],\n",
    "               index=False)"
   ]
  },
  {
   "cell_type": "code",
   "execution_count": null,
   "id": "b5358103",
   "metadata": {},
   "outputs": [],
   "source": []
  }
 ],
 "metadata": {
  "kernelspec": {
   "display_name": "Python 3",
   "language": "python",
   "name": "python3"
  },
  "language_info": {
   "codemirror_mode": {
    "name": "ipython",
    "version": 3
   },
   "file_extension": ".py",
   "mimetype": "text/x-python",
   "name": "python",
   "nbconvert_exporter": "python",
   "pygments_lexer": "ipython3",
   "version": "3.9.7"
  }
 },
 "nbformat": 4,
 "nbformat_minor": 5
}
