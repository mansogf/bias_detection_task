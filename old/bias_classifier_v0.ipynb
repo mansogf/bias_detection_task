{
 "cells": [
  {
   "cell_type": "markdown",
   "id": "f8e0e7ac",
   "metadata": {
    "ExecuteTime": {
     "end_time": "2021-09-19T21:02:03.486797Z",
     "start_time": "2021-09-19T21:02:03.483741Z"
    }
   },
   "source": [
    "## Dataset Preparation"
   ]
  },
  {
   "cell_type": "code",
   "execution_count": 1,
   "id": "1c9bbcbe",
   "metadata": {
    "ExecuteTime": {
     "end_time": "2021-09-20T00:23:00.843519Z",
     "start_time": "2021-09-20T00:22:56.157471Z"
    }
   },
   "outputs": [],
   "source": [
    "import pandas as pd\n",
    "import seaborn as sns\n",
    "import numpy as np\n",
    "import nltk\n",
    "import re\n",
    "from nltk.stem.porter import PorterStemmer\n",
    "from sklearn.preprocessing import LabelEncoder"
   ]
  },
  {
   "cell_type": "code",
   "execution_count": 2,
   "id": "c2c0bbb9",
   "metadata": {
    "ExecuteTime": {
     "end_time": "2021-09-20T00:23:00.901034Z",
     "start_time": "2021-09-20T00:23:00.846050Z"
    }
   },
   "outputs": [],
   "source": [
    "train_df = pd.read_json(\"./data/bias_articles_train.json\")\n",
    "dev_df = pd.read_json(\"./data/bias_articles_dev.json\")\n",
    "test_df = pd.read_json(\"./data/bias_articles_test.json\")"
   ]
  },
  {
   "cell_type": "code",
   "execution_count": 3,
   "id": "3df2640c",
   "metadata": {
    "ExecuteTime": {
     "end_time": "2021-09-20T00:23:00.928047Z",
     "start_time": "2021-09-20T00:23:00.909866Z"
    }
   },
   "outputs": [],
   "source": [
    "def drop_nan(df):\n",
    "    if df.isnull().values.any() == True:\n",
    "        return df.dropna().reset_index()\n",
    "\n",
    "# drop id=175 (all values are NaN)\n",
    "train_df = drop_nan(train_df)"
   ]
  },
  {
   "cell_type": "code",
   "execution_count": 4,
   "id": "2d8c256b",
   "metadata": {
    "ExecuteTime": {
     "end_time": "2021-09-20T00:23:00.941674Z",
     "start_time": "2021-09-20T00:23:00.930155Z"
    }
   },
   "outputs": [],
   "source": [
    "def df_concat(df1, df2):\n",
    "    return pd.concat([df1, df2])\n",
    "\n",
    "full_df = df_concat(train_df, dev_df)"
   ]
  },
  {
   "cell_type": "code",
   "execution_count": 5,
   "id": "180f1082",
   "metadata": {
    "ExecuteTime": {
     "end_time": "2021-09-20T00:23:01.189165Z",
     "start_time": "2021-09-20T00:23:00.951679Z"
    }
   },
   "outputs": [
    {
     "data": {
      "text/plain": [
       "<AxesSubplot:xlabel='bias', ylabel='count'>"
      ]
     },
     "execution_count": 5,
     "metadata": {},
     "output_type": "execute_result"
    },
    {
     "data": {
      "image/png": "[encoded data removed]",
      "text/plain": [
       "<Figure size 432x288 with 1 Axes>"
      ]
     },
     "metadata": {
      "needs_background": "light"
     },
     "output_type": "display_data"
    }
   ],
   "source": [
    "def data_distribution(df):\n",
    "    return sns.countplot(x='bias', data=df)\n",
    "\n",
    "# \"Center\" class proportion is almost 2:1 compared to the others.\n",
    "data_distribution(full_df)"
   ]
  },
  {
   "cell_type": "code",
   "execution_count": 6,
   "id": "62f0d219",
   "metadata": {
    "ExecuteTime": {
     "end_time": "2021-09-20T00:23:06.714146Z",
     "start_time": "2021-09-20T00:23:01.193409Z"
    }
   },
   "outputs": [],
   "source": [
    "def data_cleaning(text):\n",
    "    # Remove symbols and punctuations & apply loxer() to string\n",
    "    formatted_text = re.sub(r\"[^\\w\\s]\", \" \", text).lower()\n",
    "\n",
    "    # Remove stopwords\n",
    "    stopwords = set(nltk.corpus.stopwords.words('english'))\n",
    "    words = [i for i in formatted_text.split() if not i in stopwords]\n",
    "    \n",
    "    # Stemming tokens\n",
    "    word_stem = [PorterStemmer().stem(word) for word in words]\n",
    "    \n",
    "    return (\" \".join(word_stem))\n",
    "\n",
    "def column_concat(df, col1, col2):\n",
    "    return (df[col1] + ' ' + df[col2])\n",
    "    \n",
    "train_df['title_body'] = [data_cleaning(i) for i in column_concat(train_df, 'title', 'body')]\n",
    "dev_df['title_body'] = [data_cleaning(i) for i in column_concat(dev_df, 'title', 'body')]\n",
    "full_df['title_body'] = [data_cleaning(i) for i in column_concat(full_df, 'title', 'body')]"
   ]
  },
  {
   "cell_type": "code",
   "execution_count": 7,
   "id": "ad149421",
   "metadata": {
    "ExecuteTime": {
     "end_time": "2021-09-20T00:23:06.748621Z",
     "start_time": "2021-09-20T00:23:06.728659Z"
    }
   },
   "outputs": [],
   "source": [
    "train_x, dev_x, full_x = train_df['title_body'], dev_df['title_body'], full_df['title_body']\n",
    "train_y, dev_y = LabelEncoder().fit_transform(train_df['bias']), LabelEncoder().fit_transform(dev_df['bias'])"
   ]
  },
  {
   "cell_type": "markdown",
   "id": "469df1df",
   "metadata": {},
   "source": [
    "## Feature Engineering"
   ]
  },
  {
   "cell_type": "code",
   "execution_count": 8,
   "id": "57c2b357",
   "metadata": {
    "ExecuteTime": {
     "end_time": "2021-09-20T00:23:28.695261Z",
     "start_time": "2021-09-20T00:23:06.780356Z"
    }
   },
   "outputs": [],
   "source": [
    "from sklearn.feature_extraction.text import TfidfVectorizer, CountVectorizer\n",
    "from keras.preprocessing.text import Tokenizer\n",
    "from keras.preprocessing.sequence import pad_sequences"
   ]
  },
  {
   "cell_type": "markdown",
   "id": "67bd6695",
   "metadata": {},
   "source": [
    "#### CountVectorizer"
   ]
  },
  {
   "cell_type": "code",
   "execution_count": 9,
   "id": "3b0acc40",
   "metadata": {
    "ExecuteTime": {
     "end_time": "2021-09-20T00:23:28.914589Z",
     "start_time": "2021-09-20T00:23:28.698613Z"
    }
   },
   "outputs": [],
   "source": [
    "# create a count vectorizer object \n",
    "count_vect = CountVectorizer()\n",
    "count_vect.fit(full_x)\n",
    "\n",
    "# transform the training data using count vectorizer object\n",
    "xtrain_count =  count_vect.transform(train_x)\n",
    "xdev_count =  count_vect.transform(dev_x)"
   ]
  },
  {
   "cell_type": "markdown",
   "id": "85aa0917",
   "metadata": {},
   "source": [
    "#### TF-IDF"
   ]
  },
  {
   "cell_type": "code",
   "execution_count": 11,
   "id": "d66dc7d2",
   "metadata": {
    "ExecuteTime": {
     "end_time": "2021-09-20T00:23:30.956853Z",
     "start_time": "2021-09-20T00:23:28.927951Z"
    }
   },
   "outputs": [],
   "source": [
    "# word level tf-idf\n",
    "tfidf_vect = TfidfVectorizer()\n",
    "tfidf_vect.fit(full_x)\n",
    "xtrain_tfidf =  tfidf_vect.transform(train_x)\n",
    "xdev_tfidf =  tfidf_vect.transform(dev_x)\n",
    "\n",
    "# ngram level tf-idf \n",
    "tfidf_vect_ngram = TfidfVectorizer(ngram_range=(2,4))\n",
    "tfidf_vect_ngram.fit(full_x)\n",
    "xtrain_tfidf_ngram =  tfidf_vect_ngram.transform(train_x)\n",
    "xdev_tfidf_ngram =  tfidf_vect_ngram.transform(dev_x)"
   ]
  },
  {
   "cell_type": "markdown",
   "id": "2f3c969e",
   "metadata": {},
   "source": [
    "#### Word Embeddings"
   ]
  },
  {
   "cell_type": "code",
   "execution_count": 12,
   "id": "5eca956b",
   "metadata": {
    "ExecuteTime": {
     "end_time": "2021-09-20T00:23:41.625313Z",
     "start_time": "2021-09-20T00:23:30.963201Z"
    }
   },
   "outputs": [
    {
     "name": "stdout",
     "output_type": "stream",
     "text": [
      "Loaded 400000 word vectors.\n"
     ]
    }
   ],
   "source": [
    "# # load the whole embedding into memory\n",
    "# embeddings_index = dict()\n",
    "# f = open('data/glove/glove.6B.100d.txt')\n",
    "\n",
    "# for line in f:\n",
    "#     values = line.split()\n",
    "#     word = values[0]\n",
    "#     coefs = np.asarray(values[1:], dtype='float32')\n",
    "#     embeddings_index[word] = coefs\n",
    "\n",
    "# f.close()\n",
    "# print('Loaded %s word vectors.' % len(embeddings_index))"
   ]
  },
  {
   "cell_type": "code",
   "execution_count": 13,
   "id": "7d4fb828",
   "metadata": {
    "ExecuteTime": {
     "end_time": "2021-09-20T00:23:41.811878Z",
     "start_time": "2021-09-20T00:23:41.630580Z"
    }
   },
   "outputs": [],
   "source": [
    "# # Tokenize the sentences\n",
    "# tokenizer = Tokenizer()\n",
    "\n",
    "# # Preparing vocabulary\n",
    "# tokenizer.fit_on_texts(list(full_x))\n",
    "\n",
    "# # Converting text into integer sequences and padding to prepare sequences of same length\n",
    "# train_x_seq  = pad_sequences(tokenizer.texts_to_sequences(train_x), maxlen=512)\n",
    "# dev_x_seq = pad_sequences(tokenizer.texts_to_sequences(dev_x), maxlen=512)"
   ]
  },
  {
   "cell_type": "code",
   "execution_count": 14,
   "id": "ff3845f4",
   "metadata": {
    "ExecuteTime": {
     "end_time": "2021-09-20T00:23:41.822486Z",
     "start_time": "2021-09-20T00:23:41.814321Z"
    }
   },
   "outputs": [
    {
     "name": "stdout",
     "output_type": "stream",
     "text": [
      "7449\n"
     ]
    }
   ],
   "source": [
    "# size_of_vocabulary=len(tokenizer.word_index) + 1 #+1 for padding\n",
    "# print(size_of_vocabulary)"
   ]
  },
  {
   "cell_type": "code",
   "execution_count": 15,
   "id": "a49d1e94",
   "metadata": {
    "ExecuteTime": {
     "end_time": "2021-09-20T00:23:41.843386Z",
     "start_time": "2021-09-20T00:23:41.827354Z"
    }
   },
   "outputs": [],
   "source": [
    "# # Create a weight matrix for words in training docs\n",
    "# embedding_matrix = np.zeros((size_of_vocabulary, 100))\n",
    "\n",
    "# for word, i in tokenizer.word_index.items():\n",
    "#     embedding_vector = embeddings_index.get(word)\n",
    "#     if embedding_vector is not None:\n",
    "#         embedding_matrix[i] = embedding_vector"
   ]
  },
  {
   "cell_type": "markdown",
   "id": "4c420562",
   "metadata": {},
   "source": [
    "## Model Training"
   ]
  },
  {
   "cell_type": "code",
   "execution_count": 16,
   "id": "6d300c52",
   "metadata": {
    "ExecuteTime": {
     "end_time": "2021-09-20T00:23:41.960545Z",
     "start_time": "2021-09-20T00:23:41.852616Z"
    }
   },
   "outputs": [],
   "source": [
    "from sklearn.pipeline import Pipeline\n",
    "from sklearn.metrics import accuracy_score, classification_report\n",
    "from sklearn.naive_bayes import MultinomialNB\n",
    "from sklearn.svm import SVC\n",
    "from sklearn.ensemble import RandomForestClassifier"
   ]
  },
  {
   "cell_type": "code",
   "execution_count": 17,
   "id": "a04d2206",
   "metadata": {
    "ExecuteTime": {
     "end_time": "2021-09-20T00:23:41.967350Z",
     "start_time": "2021-09-20T00:23:41.962672Z"
    }
   },
   "outputs": [],
   "source": [
    "def train_model(classifier, feature_vector_train, label_train, feature_vector_dev, is_neural_net=False):\n",
    "    # fit the training dataset on the classifier\n",
    "    classifier.fit(feature_vector_train, label_train)\n",
    "    \n",
    "    # predict the labels on dev dataset\n",
    "    predictions = classifier.predict(feature_vector_dev)\n",
    "    \n",
    "    if is_neural_net:\n",
    "        predictions = predictions.argmax(axis=-1)\n",
    "    \n",
    "    return classifier, predictions"
   ]
  },
  {
   "cell_type": "markdown",
   "id": "afe7c8a3",
   "metadata": {},
   "source": [
    "#### Naive Bayes"
   ]
  },
  {
   "cell_type": "code",
   "execution_count": 18,
   "id": "10efc8ca",
   "metadata": {
    "ExecuteTime": {
     "end_time": "2021-09-20T00:23:42.093184Z",
     "start_time": "2021-09-20T00:23:41.976697Z"
    }
   },
   "outputs": [
    {
     "name": "stdout",
     "output_type": "stream",
     "text": [
      "              precision    recall  f1-score   support\n",
      "\n",
      "           0       0.40      0.40      0.40        15\n",
      "           1       0.12      0.17      0.14         6\n",
      "           2       0.00      0.00      0.00         9\n",
      "\n",
      "    accuracy                           0.23        30\n",
      "   macro avg       0.18      0.19      0.18        30\n",
      "weighted avg       0.23      0.23      0.23        30\n",
      "\n"
     ]
    }
   ],
   "source": [
    "# Naive Bayes on Count Vectors\n",
    "nbCV_pipeline = Pipeline([\n",
    "        ('nbCV', count_vect),\n",
    "        ('nb_clf', MultinomialNB())])\n",
    "\n",
    "nbCV_model, nbCV_pred = train_model(nbCV_pipeline, train_x, train_y, dev_x)\n",
    "print(classification_report(nbCV_pred, dev_y))"
   ]
  },
  {
   "cell_type": "code",
   "execution_count": 19,
   "id": "f93358d3",
   "metadata": {
    "ExecuteTime": {
     "end_time": "2021-09-20T00:23:42.211161Z",
     "start_time": "2021-09-20T00:23:42.095618Z"
    }
   },
   "outputs": [
    {
     "name": "stdout",
     "output_type": "stream",
     "text": [
      "              precision    recall  f1-score   support\n",
      "\n",
      "           0       1.00      0.50      0.67        30\n",
      "           1       0.00      0.00      0.00         0\n",
      "           2       0.00      0.00      0.00         0\n",
      "\n",
      "    accuracy                           0.50        30\n",
      "   macro avg       0.33      0.17      0.22        30\n",
      "weighted avg       1.00      0.50      0.67        30\n",
      "\n"
     ]
    },
    {
     "name": "stderr",
     "output_type": "stream",
     "text": [
      "/usr/local/lib/python3.9/site-packages/sklearn/metrics/_classification.py:1248: UndefinedMetricWarning: Recall and F-score are ill-defined and being set to 0.0 in labels with no true samples. Use `zero_division` parameter to control this behavior.\n",
      "  _warn_prf(average, modifier, msg_start, len(result))\n",
      "/usr/local/lib/python3.9/site-packages/sklearn/metrics/_classification.py:1248: UndefinedMetricWarning: Recall and F-score are ill-defined and being set to 0.0 in labels with no true samples. Use `zero_division` parameter to control this behavior.\n",
      "  _warn_prf(average, modifier, msg_start, len(result))\n",
      "/usr/local/lib/python3.9/site-packages/sklearn/metrics/_classification.py:1248: UndefinedMetricWarning: Recall and F-score are ill-defined and being set to 0.0 in labels with no true samples. Use `zero_division` parameter to control this behavior.\n",
      "  _warn_prf(average, modifier, msg_start, len(result))\n"
     ]
    }
   ],
   "source": [
    "# Naive Bayes on Word Level TF-IDF Vectors\n",
    "nbTFIDF_pipeline = Pipeline([\n",
    "        ('nbTFIDF', tfidf_vect),\n",
    "        ('nb_clf', MultinomialNB())])\n",
    "\n",
    "nbTFIDF_model, nbTFIDF_pred = train_model(nbTFIDF_pipeline, train_x, train_y, dev_x)\n",
    "print(classification_report(nbTFIDF_pred, dev_y))"
   ]
  },
  {
   "cell_type": "code",
   "execution_count": 20,
   "id": "3a0cf747",
   "metadata": {
    "ExecuteTime": {
     "end_time": "2021-09-20T00:23:43.370407Z",
     "start_time": "2021-09-20T00:23:42.213484Z"
    }
   },
   "outputs": [
    {
     "name": "stdout",
     "output_type": "stream",
     "text": [
      "              precision    recall  f1-score   support\n",
      "\n",
      "           0       1.00      0.50      0.67        30\n",
      "           1       0.00      0.00      0.00         0\n",
      "           2       0.00      0.00      0.00         0\n",
      "\n",
      "    accuracy                           0.50        30\n",
      "   macro avg       0.33      0.17      0.22        30\n",
      "weighted avg       1.00      0.50      0.67        30\n",
      "\n"
     ]
    },
    {
     "name": "stderr",
     "output_type": "stream",
     "text": [
      "/usr/local/lib/python3.9/site-packages/sklearn/metrics/_classification.py:1248: UndefinedMetricWarning: Recall and F-score are ill-defined and being set to 0.0 in labels with no true samples. Use `zero_division` parameter to control this behavior.\n",
      "  _warn_prf(average, modifier, msg_start, len(result))\n",
      "/usr/local/lib/python3.9/site-packages/sklearn/metrics/_classification.py:1248: UndefinedMetricWarning: Recall and F-score are ill-defined and being set to 0.0 in labels with no true samples. Use `zero_division` parameter to control this behavior.\n",
      "  _warn_prf(average, modifier, msg_start, len(result))\n",
      "/usr/local/lib/python3.9/site-packages/sklearn/metrics/_classification.py:1248: UndefinedMetricWarning: Recall and F-score are ill-defined and being set to 0.0 in labels with no true samples. Use `zero_division` parameter to control this behavior.\n",
      "  _warn_prf(average, modifier, msg_start, len(result))\n"
     ]
    }
   ],
   "source": [
    "# Naive Bayes on Ngram Level TF IDF Vectors\n",
    "nbTFIDF_ngram_pipeline = Pipeline([\n",
    "        ('nbTFIDFngram', tfidf_vect_ngram),\n",
    "        ('nb_clf', MultinomialNB())])\n",
    "\n",
    "nbTFIDF_ngram_model, nbTFIDF_ngram_pred = train_model(nbTFIDF_ngram_pipeline, train_x, train_y, dev_x)\n",
    "print(classification_report(nbTFIDF_ngram_pred, dev_y))"
   ]
  },
  {
   "cell_type": "markdown",
   "id": "1e41cd7f",
   "metadata": {},
   "source": [
    "#### SVM"
   ]
  },
  {
   "cell_type": "code",
   "execution_count": 40,
   "id": "374e9f7a",
   "metadata": {
    "ExecuteTime": {
     "end_time": "2021-09-20T01:56:01.447585Z",
     "start_time": "2021-09-20T01:56:01.106993Z"
    }
   },
   "outputs": [
    {
     "name": "stdout",
     "output_type": "stream",
     "text": [
      "              precision    recall  f1-score   support\n",
      "\n",
      "           0       0.47      0.50      0.48        14\n",
      "           1       0.00      0.00      0.00         3\n",
      "           2       0.43      0.23      0.30        13\n",
      "\n",
      "    accuracy                           0.33        30\n",
      "   macro avg       0.30      0.24      0.26        30\n",
      "weighted avg       0.40      0.33      0.36        30\n",
      "\n"
     ]
    }
   ],
   "source": [
    "# SVM on Count Vectors\n",
    "svmCV_pipeline = Pipeline([\n",
    "        ('svmCV', count_vect),\n",
    "        ('svmclf', SVC(class_weight='balanced'))])\n",
    "\n",
    "svmCV_model, svmCV_pred = train_model(svmCV_pipeline, train_x, train_y, dev_x)\n",
    "print(classification_report(svmCV_pred, dev_y))"
   ]
  },
  {
   "cell_type": "code",
   "execution_count": 22,
   "id": "c24dc9fb",
   "metadata": {
    "ExecuteTime": {
     "end_time": "2021-09-20T00:23:44.026462Z",
     "start_time": "2021-09-20T00:23:43.700530Z"
    }
   },
   "outputs": [
    {
     "name": "stdout",
     "output_type": "stream",
     "text": [
      "              precision    recall  f1-score   support\n",
      "\n",
      "           0       0.33      0.38      0.36        13\n",
      "           1       0.25      0.22      0.24         9\n",
      "           2       0.00      0.00      0.00         8\n",
      "\n",
      "    accuracy                           0.23        30\n",
      "   macro avg       0.19      0.20      0.20        30\n",
      "weighted avg       0.22      0.23      0.23        30\n",
      "\n"
     ]
    }
   ],
   "source": [
    "# SVM on Word Level TF IDF Vectors\n",
    "svmTFIDF_pipeline = Pipeline([\n",
    "        ('svmTFIDF', tfidf_vect),\n",
    "        ('svmclf', SVC(class_weight='balanced'))])\n",
    "\n",
    "svmTFIDF_model, svmTFIDF_pred = train_model(svmTFIDF_pipeline, train_x, train_y, dev_x)\n",
    "print(classification_report(svmTFIDF_pred, dev_y))"
   ]
  },
  {
   "cell_type": "code",
   "execution_count": 23,
   "id": "3b01807a",
   "metadata": {
    "ExecuteTime": {
     "end_time": "2021-09-20T00:23:45.759727Z",
     "start_time": "2021-09-20T00:23:44.032327Z"
    }
   },
   "outputs": [
    {
     "name": "stdout",
     "output_type": "stream",
     "text": [
      "              precision    recall  f1-score   support\n",
      "\n",
      "           0       0.67      0.43      0.53        23\n",
      "           1       0.00      0.00      0.00         3\n",
      "           2       0.00      0.00      0.00         4\n",
      "\n",
      "    accuracy                           0.33        30\n",
      "   macro avg       0.22      0.14      0.18        30\n",
      "weighted avg       0.51      0.33      0.40        30\n",
      "\n"
     ]
    }
   ],
   "source": [
    "# SVM on Ngram Level TF IDF Vectors\n",
    "svmTFIDF_ngram_pipeline = Pipeline([\n",
    "        ('svmTFIDFngram', tfidf_vect_ngram),\n",
    "        ('svmclf', SVC(class_weight='balanced'))])\n",
    "\n",
    "svmTFIDF_ngram_model, svmTFIDF_ngram_pred = train_model(svmTFIDF_ngram_pipeline, train_x, train_y, dev_x)\n",
    "print(classification_report(svmTFIDF_ngram_pred, dev_y))"
   ]
  },
  {
   "cell_type": "markdown",
   "id": "abc9999d",
   "metadata": {
    "ExecuteTime": {
     "end_time": "2021-09-19T23:03:17.117277Z",
     "start_time": "2021-09-19T23:03:16.707515Z"
    }
   },
   "source": [
    "#### Random Forest"
   ]
  },
  {
   "cell_type": "code",
   "execution_count": 24,
   "id": "b03883c7",
   "metadata": {
    "ExecuteTime": {
     "end_time": "2021-09-20T00:23:46.317072Z",
     "start_time": "2021-09-20T00:23:45.763499Z"
    }
   },
   "outputs": [
    {
     "name": "stdout",
     "output_type": "stream",
     "text": [
      "              precision    recall  f1-score   support\n",
      "\n",
      "           0       0.87      0.48      0.62        27\n",
      "           1       0.00      0.00      0.00         1\n",
      "           2       0.00      0.00      0.00         2\n",
      "\n",
      "    accuracy                           0.43        30\n",
      "   macro avg       0.29      0.16      0.21        30\n",
      "weighted avg       0.78      0.43      0.56        30\n",
      "\n"
     ]
    }
   ],
   "source": [
    "# Random Forest on Count Vectors\n",
    "rfCV_pipeline = Pipeline([\n",
    "        ('rfCV', count_vect),\n",
    "        ('rfclf', RandomForestClassifier(class_weight='balanced'))])\n",
    "\n",
    "rfCV_model, rfCV_pred = train_model(rfCV_pipeline, train_x, train_y, dev_x)\n",
    "print(classification_report(rfCV_pred, dev_y))"
   ]
  },
  {
   "cell_type": "code",
   "execution_count": 25,
   "id": "18e5c10f",
   "metadata": {
    "ExecuteTime": {
     "end_time": "2021-09-20T00:23:46.908928Z",
     "start_time": "2021-09-20T00:23:46.327581Z"
    }
   },
   "outputs": [
    {
     "name": "stdout",
     "output_type": "stream",
     "text": [
      "              precision    recall  f1-score   support\n",
      "\n",
      "           0       0.73      0.46      0.56        24\n",
      "           1       0.00      0.00      0.00         1\n",
      "           2       0.14      0.20      0.17         5\n",
      "\n",
      "    accuracy                           0.40        30\n",
      "   macro avg       0.29      0.22      0.24        30\n",
      "weighted avg       0.61      0.40      0.48        30\n",
      "\n"
     ]
    }
   ],
   "source": [
    "# Random Forest on Word Level TF IDF Vectors\n",
    "rfTFIDF_pipeline = Pipeline([\n",
    "        ('rfTFIDF', tfidf_vect),\n",
    "        ('rfclf', RandomForestClassifier(class_weight='balanced'))])\n",
    "\n",
    "rfTFIDF_model, rfTFIDF_pred = train_model(rfTFIDF_pipeline, train_x, train_y, dev_x)\n",
    "print(classification_report(rfTFIDF_pred, dev_y))"
   ]
  },
  {
   "cell_type": "code",
   "execution_count": 26,
   "id": "c750e133",
   "metadata": {
    "ExecuteTime": {
     "end_time": "2021-09-20T00:23:49.094174Z",
     "start_time": "2021-09-20T00:23:46.927349Z"
    }
   },
   "outputs": [
    {
     "name": "stdout",
     "output_type": "stream",
     "text": [
      "              precision    recall  f1-score   support\n",
      "\n",
      "           0       1.00      0.50      0.67        30\n",
      "           1       0.00      0.00      0.00         0\n",
      "           2       0.00      0.00      0.00         0\n",
      "\n",
      "    accuracy                           0.50        30\n",
      "   macro avg       0.33      0.17      0.22        30\n",
      "weighted avg       1.00      0.50      0.67        30\n",
      "\n"
     ]
    },
    {
     "name": "stderr",
     "output_type": "stream",
     "text": [
      "/usr/local/lib/python3.9/site-packages/sklearn/metrics/_classification.py:1248: UndefinedMetricWarning: Recall and F-score are ill-defined and being set to 0.0 in labels with no true samples. Use `zero_division` parameter to control this behavior.\n",
      "  _warn_prf(average, modifier, msg_start, len(result))\n",
      "/usr/local/lib/python3.9/site-packages/sklearn/metrics/_classification.py:1248: UndefinedMetricWarning: Recall and F-score are ill-defined and being set to 0.0 in labels with no true samples. Use `zero_division` parameter to control this behavior.\n",
      "  _warn_prf(average, modifier, msg_start, len(result))\n",
      "/usr/local/lib/python3.9/site-packages/sklearn/metrics/_classification.py:1248: UndefinedMetricWarning: Recall and F-score are ill-defined and being set to 0.0 in labels with no true samples. Use `zero_division` parameter to control this behavior.\n",
      "  _warn_prf(average, modifier, msg_start, len(result))\n"
     ]
    }
   ],
   "source": [
    "# Random Forest on Ngram Level TF IDF Vectors\n",
    "rfTFIDF_ngram_pipeline = Pipeline([\n",
    "        ('rfTFIDFngram', tfidf_vect_ngram),\n",
    "        ('rfclf', RandomForestClassifier(class_weight='balanced'))])\n",
    "\n",
    "rfTFIDF_ngram_model, rfTFIDF_ngram_pred = train_model(rfTFIDF_ngram_pipeline, train_x, train_y, dev_x)\n",
    "print(classification_report(rfTFIDF_ngram_pred, dev_y))"
   ]
  },
  {
   "cell_type": "markdown",
   "id": "2c7b6c2d",
   "metadata": {},
   "source": [
    "### Fine-tuning"
   ]
  },
  {
   "cell_type": "code",
   "execution_count": 27,
   "id": "4922101c",
   "metadata": {
    "ExecuteTime": {
     "end_time": "2021-09-20T00:23:49.099254Z",
     "start_time": "2021-09-20T00:23:49.096661Z"
    }
   },
   "outputs": [],
   "source": [
    "from sklearn.model_selection import GridSearchCV"
   ]
  },
  {
   "cell_type": "markdown",
   "id": "00836661",
   "metadata": {},
   "source": [
    "#### Naive Bayes"
   ]
  },
  {
   "cell_type": "code",
   "execution_count": 55,
   "id": "945a98db",
   "metadata": {
    "ExecuteTime": {
     "end_time": "2021-09-20T03:17:10.264876Z",
     "start_time": "2021-09-20T03:17:04.342866Z"
    }
   },
   "outputs": [
    {
     "data": {
      "text/plain": [
       "{'nbCV__analyzer': 'char', 'nbCV__max_df': 0.25}"
      ]
     },
     "execution_count": 55,
     "metadata": {},
     "output_type": "execute_result"
    }
   ],
   "source": [
    "# Naive Bayes on Count Vectors\n",
    "parameters = {'nbCV__max_df': (0.25, 0.5, 0.75, 1.0),\n",
    "              'nbCV__analyzer': ['word', 'char']}\n",
    "\n",
    "gs_nbCV = GridSearchCV(nbCV_model, parameters, n_jobs=-1)\n",
    "gs_nbCV = gs_nbCV.fit(train_x, train_y)\n",
    "\n",
    "gs_nbCV.best_params_"
   ]
  },
  {
   "cell_type": "code",
   "execution_count": 57,
   "id": "b7635461",
   "metadata": {
    "ExecuteTime": {
     "end_time": "2021-09-20T03:17:21.479507Z",
     "start_time": "2021-09-20T03:17:21.471208Z"
    }
   },
   "outputs": [
    {
     "data": {
      "text/plain": [
       "0.46028368794326247"
      ]
     },
     "execution_count": 57,
     "metadata": {},
     "output_type": "execute_result"
    }
   ],
   "source": [
    "gs_nbCV.best_score_"
   ]
  },
  {
   "cell_type": "code",
   "execution_count": 59,
   "id": "9e7f5b29",
   "metadata": {
    "ExecuteTime": {
     "end_time": "2021-09-20T03:19:48.048764Z",
     "start_time": "2021-09-20T03:19:47.297591Z"
    }
   },
   "outputs": [
    {
     "data": {
      "text/plain": [
       "{'nbTFIDF__use_idf': True}"
      ]
     },
     "execution_count": 59,
     "metadata": {},
     "output_type": "execute_result"
    }
   ],
   "source": [
    "# Naive Bayes on Word Level TF-IDF Vectors\n",
    "parameters = {'nbTFIDF__use_idf': (True, False),}\n",
    "\n",
    "gs_nbTFIDF = GridSearchCV(nbTFIDF_model, parameters, n_jobs=-1)\n",
    "gs_nbTFIDF = gs_nbTFIDF.fit(train_x, train_y)\n",
    "\n",
    "gs_nbTFIDF.best_params_"
   ]
  },
  {
   "cell_type": "code",
   "execution_count": 60,
   "id": "af1e4574",
   "metadata": {
    "ExecuteTime": {
     "end_time": "2021-09-20T03:19:57.569885Z",
     "start_time": "2021-09-20T03:19:57.561168Z"
    }
   },
   "outputs": [
    {
     "data": {
      "text/plain": [
       "0.4769503546099291"
      ]
     },
     "execution_count": 60,
     "metadata": {},
     "output_type": "execute_result"
    }
   ],
   "source": [
    "gs_nbTFIDF.best_score_"
   ]
  },
  {
   "cell_type": "code",
   "execution_count": 64,
   "id": "c4fea095",
   "metadata": {
    "ExecuteTime": {
     "end_time": "2021-09-20T03:22:34.312271Z",
     "start_time": "2021-09-20T03:22:21.245577Z"
    }
   },
   "outputs": [
    {
     "data": {
      "text/plain": [
       "{'nbTFIDFngram__ngram_range': (1, 3), 'nbTFIDFngram__use_idf': True}"
      ]
     },
     "execution_count": 64,
     "metadata": {},
     "output_type": "execute_result"
    }
   ],
   "source": [
    "# Naive Bayes on Ngram Level TF IDF Vectors\n",
    "parameters = {'nbTFIDFngram__use_idf': (True, False),\n",
    "              'nbTFIDFngram__ngram_range': [(1, 3), (2, 3), (1, 4)]}\n",
    "\n",
    "gs_nbTFIDFngram = GridSearchCV(nbTFIDF_ngram_model, parameters, n_jobs=-1)\n",
    "gs_nbTFIDFngram = gs_nbTFIDFngram.fit(train_x, train_y)\n",
    "\n",
    "gs_nbTFIDFngram.best_params_"
   ]
  },
  {
   "cell_type": "code",
   "execution_count": 65,
   "id": "3100bed8",
   "metadata": {
    "ExecuteTime": {
     "end_time": "2021-09-20T03:22:45.986940Z",
     "start_time": "2021-09-20T03:22:45.979904Z"
    }
   },
   "outputs": [
    {
     "data": {
      "text/plain": [
       "0.4769503546099291"
      ]
     },
     "execution_count": 65,
     "metadata": {},
     "output_type": "execute_result"
    }
   ],
   "source": [
    "gs_nbTFIDFngram.best_score_"
   ]
  },
  {
   "cell_type": "markdown",
   "id": "8579c39d",
   "metadata": {},
   "source": [
    "#### SVM"
   ]
  },
  {
   "cell_type": "code",
   "execution_count": 46,
   "id": "be03b3a6",
   "metadata": {
    "ExecuteTime": {
     "end_time": "2021-09-20T02:56:48.124397Z",
     "start_time": "2021-09-20T02:01:15.454919Z"
    }
   },
   "outputs": [
    {
     "data": {
      "text/plain": [
       "{'svmCV__analyzer': 'char',\n",
       " 'svmCV__max_df': 0.75,\n",
       " 'svmclf__C': 2,\n",
       " 'svmclf__class_weight': None,\n",
       " 'svmclf__degree': 3,\n",
       " 'svmclf__gamma': 'scale',\n",
       " 'svmclf__kernel': 'poly'}"
      ]
     },
     "execution_count": 46,
     "metadata": {},
     "output_type": "execute_result"
    }
   ],
   "source": [
    "# SVM on Count Vectors\n",
    "parameters = {'svmCV__max_df': (0.25, 0.5, 0.75, 1.0),\n",
    "              'svmCV__analyzer': ['word', 'char'],\n",
    "              'svmclf__C': [1.0, 1.2, 2, 0.8],\n",
    "              'svmclf__class_weight': [None, 'balanced'],\n",
    "              'svmclf__kernel': ['linear', 'poly', 'rbf', 'sigmoid'],\n",
    "              'svmclf__degree': [3, 4],\n",
    "              'svmclf__gamma': ['auto', 'scale']\n",
    "}\n",
    "\n",
    "gs_svmCV = GridSearchCV(svmCV_model, parameters, n_jobs=-1)\n",
    "gs_svmCV = gs_svmCV.fit(train_x, train_y)\n",
    "\n",
    "gs_svmCV.best_params_"
   ]
  },
  {
   "cell_type": "code",
   "execution_count": 47,
   "id": "d7787802",
   "metadata": {
    "ExecuteTime": {
     "end_time": "2021-09-20T02:56:48.141974Z",
     "start_time": "2021-09-20T02:56:48.131988Z"
    }
   },
   "outputs": [
    {
     "data": {
      "text/plain": [
       "0.4854609929078014"
      ]
     },
     "execution_count": 47,
     "metadata": {},
     "output_type": "execute_result"
    }
   ],
   "source": [
    "gs_svmCV.best_score_"
   ]
  },
  {
   "cell_type": "code",
   "execution_count": 48,
   "id": "d26e43fa",
   "metadata": {
    "ExecuteTime": {
     "end_time": "2021-09-20T02:57:48.030216Z",
     "start_time": "2021-09-20T02:57:05.682316Z"
    }
   },
   "outputs": [
    {
     "data": {
      "text/plain": [
       "{'svmTFIDF__use_idf': True,\n",
       " 'svmclf__C': 0.1,\n",
       " 'svmclf__class_weight': None,\n",
       " 'svmclf__degree': 3,\n",
       " 'svmclf__kernel': 'poly'}"
      ]
     },
     "execution_count": 48,
     "metadata": {},
     "output_type": "execute_result"
    }
   ],
   "source": [
    "# SVM on Word Level TF IDF Vectors\n",
    "parameters = {'svmTFIDF__use_idf': (True, False),\n",
    "              'svmclf__C': [0.1,1, 10, 100],\n",
    "              'svmclf__class_weight': [None, 'balanced'],\n",
    "              'svmclf__kernel': ['poly', 'rbf', 'sigmoid'],\n",
    "              'svmclf__degree': [3, 4]\n",
    "}\n",
    "\n",
    "gs_svmTFIDF = GridSearchCV(svmTFIDF_model, parameters, n_jobs=-1)\n",
    "gs_svmTFIDF = gs_svmTFIDF.fit(train_x, train_y)\n",
    "\n",
    "gs_svmTFIDF.best_params_"
   ]
  },
  {
   "cell_type": "code",
   "execution_count": 49,
   "id": "c75ed707",
   "metadata": {
    "ExecuteTime": {
     "end_time": "2021-09-20T02:57:48.068062Z",
     "start_time": "2021-09-20T02:57:48.034833Z"
    }
   },
   "outputs": [
    {
     "data": {
      "text/plain": [
       "0.4769503546099291"
      ]
     },
     "execution_count": 49,
     "metadata": {},
     "output_type": "execute_result"
    }
   ],
   "source": [
    "gs_svmTFIDF.best_score_"
   ]
  },
  {
   "cell_type": "code",
   "execution_count": 51,
   "id": "2e88b212",
   "metadata": {
    "ExecuteTime": {
     "end_time": "2021-09-20T03:09:05.593822Z",
     "start_time": "2021-09-20T02:58:32.555397Z"
    }
   },
   "outputs": [
    {
     "data": {
      "text/plain": [
       "{'svmTFIDFngram__ngram_range': (1, 3),\n",
       " 'svmTFIDFngram__use_idf': True,\n",
       " 'svmclf__C': 0.1,\n",
       " 'svmclf__class_weight': None,\n",
       " 'svmclf__degree': 3,\n",
       " 'svmclf__kernel': 'poly'}"
      ]
     },
     "execution_count": 51,
     "metadata": {},
     "output_type": "execute_result"
    }
   ],
   "source": [
    "# SVM on Ngram Level TF IDF Vectors\n",
    "parameters = {'svmTFIDFngram__ngram_range': [(1, 3), (2, 3), (1, 4)],\n",
    "              'svmTFIDFngram__use_idf': (True, False),\n",
    "              'svmclf__C': [0.1,1, 10, 100],\n",
    "              'svmclf__class_weight': [None, 'balanced'],\n",
    "              'svmclf__kernel': ['poly', 'rbf', 'sigmoid'],\n",
    "              'svmclf__degree': [3, 4]\n",
    "}\n",
    "\n",
    "gs_svmTFIDFngram = GridSearchCV(svmTFIDF_ngram_model, parameters, n_jobs=-1)\n",
    "gs_svmTFIDFngram = gs_svmTFIDFngram.fit(train_x, train_y)\n",
    "\n",
    "gs_svmTFIDFngram.best_params_"
   ]
  },
  {
   "cell_type": "code",
   "execution_count": 52,
   "id": "b0df6dcf",
   "metadata": {
    "ExecuteTime": {
     "end_time": "2021-09-20T03:09:19.160417Z",
     "start_time": "2021-09-20T03:09:19.144406Z"
    }
   },
   "outputs": [
    {
     "data": {
      "text/plain": [
       "0.4769503546099291"
      ]
     },
     "execution_count": 52,
     "metadata": {},
     "output_type": "execute_result"
    }
   ],
   "source": [
    "gs_svmTFIDFngram.best_score_"
   ]
  },
  {
   "cell_type": "markdown",
   "id": "c9d0bdf6",
   "metadata": {},
   "source": [
    "#### Random Forest"
   ]
  },
  {
   "cell_type": "code",
   "execution_count": 30,
   "id": "6682a40a",
   "metadata": {
    "ExecuteTime": {
     "end_time": "2021-09-20T00:27:24.707432Z",
     "start_time": "2021-09-20T00:25:40.432324Z"
    }
   },
   "outputs": [
    {
     "data": {
      "text/plain": [
       "{'rfCV__analyzer': 'char',\n",
       " 'rfCV__max_df': 0.75,\n",
       " 'rfclf__class_weight': None,\n",
       " 'rfclf__max_depth': 4,\n",
       " 'rfclf__max_features': 'auto'}"
      ]
     },
     "execution_count": 30,
     "metadata": {},
     "output_type": "execute_result"
    }
   ],
   "source": [
    "# Random Forest on Count Vectors\n",
    "parameters = {'rfCV__max_df': (0.25, 0.5, 0.75, 1.0),\n",
    "              'rfCV__analyzer': ['word', 'char'],\n",
    "              'rfclf__max_features': ['auto', 'sqrt'],\n",
    "              'rfclf__max_depth': (2,4,6,8,10),\n",
    "              'rfclf__class_weight': [None, 'balanced']\n",
    "}\n",
    "\n",
    "gs_rfCV = GridSearchCV(rfCV_model, parameters, n_jobs=-1)\n",
    "gs_rfCV = gs_rfCV.fit(train_x, train_y)\n",
    "\n",
    "gs_rfCV.best_params_"
   ]
  },
  {
   "cell_type": "code",
   "execution_count": 34,
   "id": "f5dd6d88",
   "metadata": {
    "ExecuteTime": {
     "end_time": "2021-09-20T01:43:01.320052Z",
     "start_time": "2021-09-20T01:43:01.281770Z"
    }
   },
   "outputs": [
    {
     "data": {
      "text/plain": [
       "0.48962765957446813"
      ]
     },
     "execution_count": 34,
     "metadata": {},
     "output_type": "execute_result"
    }
   ],
   "source": [
    "gs_rfCV.best_score_"
   ]
  },
  {
   "cell_type": "code",
   "execution_count": 31,
   "id": "278d0435",
   "metadata": {
    "ExecuteTime": {
     "end_time": "2021-09-20T00:30:45.818477Z",
     "start_time": "2021-09-20T00:27:24.711177Z"
    },
    "scrolled": true
   },
   "outputs": [
    {
     "data": {
      "text/plain": [
       "{'rfTFIDF__analyzer': 'word',\n",
       " 'rfTFIDF__max_df': 0.5,\n",
       " 'rfTFIDF__use_idf': False,\n",
       " 'rfclf__class_weight': None,\n",
       " 'rfclf__max_depth': 8,\n",
       " 'rfclf__max_features': 'sqrt'}"
      ]
     },
     "execution_count": 31,
     "metadata": {},
     "output_type": "execute_result"
    }
   ],
   "source": [
    "# Random Forest on Word Level TF IDF Vectors\n",
    "parameters = {'rfTFIDF__max_df': (0.25, 0.5, 0.75, 1.0),\n",
    "              'rfTFIDF__analyzer': ['word', 'char'],\n",
    "              'rfTFIDF__use_idf': (True, False),\n",
    "              'rfclf__max_features': ['auto', 'sqrt'],\n",
    "              'rfclf__class_weight': [None, 'balanced'],\n",
    "              'rfclf__max_depth': (2,4,6,8,10)\n",
    "}\n",
    "\n",
    "gs_rfTFIDF = GridSearchCV(rfTFIDF_model, parameters, n_jobs=-1)\n",
    "gs_rfTFIDF = gs_rfTFIDF.fit(train_x, train_y)\n",
    "\n",
    "gs_rfTFIDF.best_params_"
   ]
  },
  {
   "cell_type": "code",
   "execution_count": 35,
   "id": "9150e9b4",
   "metadata": {
    "ExecuteTime": {
     "end_time": "2021-09-20T01:43:10.805247Z",
     "start_time": "2021-09-20T01:43:10.796849Z"
    }
   },
   "outputs": [
    {
     "data": {
      "text/plain": [
       "0.4854609929078014"
      ]
     },
     "execution_count": 35,
     "metadata": {},
     "output_type": "execute_result"
    }
   ],
   "source": [
    "gs_rfTFIDF.best_score_"
   ]
  },
  {
   "cell_type": "code",
   "execution_count": 32,
   "id": "59077160",
   "metadata": {
    "ExecuteTime": {
     "end_time": "2021-09-20T01:34:31.864076Z",
     "start_time": "2021-09-20T00:30:45.825430Z"
    },
    "scrolled": true
   },
   "outputs": [
    {
     "data": {
      "text/plain": [
       "{'rfTFIDFngram__analyzer': 'word',\n",
       " 'rfTFIDFngram__max_df': 0.25,\n",
       " 'rfTFIDFngram__ngram_range': (2, 3),\n",
       " 'rfTFIDFngram__use_idf': False,\n",
       " 'rfclf__class_weight': 'balanced',\n",
       " 'rfclf__max_depth': 6,\n",
       " 'rfclf__max_features': 'sqrt'}"
      ]
     },
     "execution_count": 32,
     "metadata": {},
     "output_type": "execute_result"
    }
   ],
   "source": [
    "# Random Forest on Ngram Level TF IDF Vectors\n",
    "parameters = {'rfTFIDFngram__ngram_range': [(1, 3), (2, 3), (2, 4), (3, 4), (1, 4)],\n",
    "              'rfTFIDFngram__max_df': (0.25, 0.5, 0.75, 1.0),\n",
    "              'rfTFIDFngram__analyzer': ['word', 'char'],\n",
    "              'rfTFIDFngram__use_idf': (True, False),\n",
    "              'rfclf__max_features': ['auto', 'sqrt'],\n",
    "              'rfclf__class_weight': [None, 'balanced'],\n",
    "              'rfclf__max_depth': (2,4,6,8,10)\n",
    "}\n",
    "\n",
    "gs_rfTFIDF_ngram = GridSearchCV(rfTFIDF_ngram_model, parameters, n_jobs=-1)\n",
    "gs_rfTFIDF_ngram= gs_rfTFIDF_ngram.fit(train_x, train_y)\n",
    "\n",
    "gs_rfTFIDF_ngram.best_params_"
   ]
  },
  {
   "cell_type": "code",
   "execution_count": 36,
   "id": "501a0b7d",
   "metadata": {
    "ExecuteTime": {
     "end_time": "2021-09-20T01:43:21.337189Z",
     "start_time": "2021-09-20T01:43:21.328048Z"
    }
   },
   "outputs": [
    {
     "data": {
      "text/plain": [
       "0.5105496453900709"
      ]
     },
     "execution_count": 36,
     "metadata": {},
     "output_type": "execute_result"
    }
   ],
   "source": [
    "gs_rfTFIDF_ngram.best_score_"
   ]
  },
  {
   "cell_type": "markdown",
   "id": "7067b171",
   "metadata": {},
   "source": [
    "## Test set predictions"
   ]
  },
  {
   "cell_type": "code",
   "execution_count": 107,
   "id": "892aebe5",
   "metadata": {
    "ExecuteTime": {
     "end_time": "2021-09-20T03:52:08.000506Z",
     "start_time": "2021-09-20T03:52:07.518344Z"
    }
   },
   "outputs": [],
   "source": [
    "test_x = test_df['title_body'] = [data_cleaning(i) for i in column_concat(test_df, 'title', 'body')]"
   ]
  },
  {
   "cell_type": "code",
   "execution_count": 110,
   "id": "263aec61",
   "metadata": {
    "ExecuteTime": {
     "end_time": "2021-09-20T03:52:18.644973Z",
     "start_time": "2021-09-20T03:52:17.731414Z"
    }
   },
   "outputs": [],
   "source": [
    "# Random Forest on Ngram Level TF IDF Vectors\n",
    "rfTFIDF_ngram_pipeline = Pipeline([\n",
    "        ('rfTFIDFngram', TfidfVectorizer(max_df=0.25, ngram_range=(2, 3), use_idf=False)),\n",
    "        ('rfclf', RandomForestClassifier(class_weight='balanced', max_depth=6, max_features='sqrt'))])\n",
    "\n",
    "rfTFIDF_ngram_model, rfTFIDF_ngram_pred = train_model(rfTFIDF_ngram_pipeline, train_x, train_y, test_x)\n",
    "# print(classification_report(rfTFIDF_ngram_pred, dev_y))"
   ]
  },
  {
   "cell_type": "code",
   "execution_count": 111,
   "id": "14939dc0",
   "metadata": {
    "ExecuteTime": {
     "end_time": "2021-09-20T03:52:19.865984Z",
     "start_time": "2021-09-20T03:52:19.860255Z"
    }
   },
   "outputs": [
    {
     "data": {
      "text/plain": [
       "array([0, 0, 2, 0, 0, 0, 1, 0, 0, 0, 0, 0, 0, 0, 0, 0, 0, 0, 0, 2, 0, 0,\n",
       "       0, 0, 0, 0, 0, 2, 0, 0])"
      ]
     },
     "execution_count": 111,
     "metadata": {},
     "output_type": "execute_result"
    }
   ],
   "source": [
    "rfTFIDF_ngram_pred"
   ]
  },
  {
   "cell_type": "code",
   "execution_count": 113,
   "id": "2d58d582",
   "metadata": {
    "ExecuteTime": {
     "end_time": "2021-09-20T04:00:07.294504Z",
     "start_time": "2021-09-20T04:00:07.278768Z"
    }
   },
   "outputs": [],
   "source": [
    "test_df['bias_predicted'] = rfTFIDF_ngram_pred"
   ]
  },
  {
   "cell_type": "code",
   "execution_count": 115,
   "id": "0c4df697",
   "metadata": {
    "ExecuteTime": {
     "end_time": "2021-09-20T04:04:12.896913Z",
     "start_time": "2021-09-20T04:04:12.862943Z"
    }
   },
   "outputs": [],
   "source": [
    "test_df[\"bias_predicted\"].replace({0: \"Center\", 2: \"Right\", 1: \"Left\"}, inplace=True)"
   ]
  },
  {
   "cell_type": "code",
   "execution_count": 116,
   "id": "0145f0bb",
   "metadata": {
    "ExecuteTime": {
     "end_time": "2021-09-20T04:04:14.175339Z",
     "start_time": "2021-09-20T04:04:14.150510Z"
    }
   },
   "outputs": [
    {
     "data": {
      "text/html": [
       "<div>\n",
       "<style scoped>\n",
       "    .dataframe tbody tr th:only-of-type {\n",
       "        vertical-align: middle;\n",
       "    }\n",
       "\n",
       "    .dataframe tbody tr th {\n",
       "        vertical-align: top;\n",
       "    }\n",
       "\n",
       "    .dataframe thead th {\n",
       "        text-align: right;\n",
       "    }\n",
       "</style>\n",
       "<table border=\"1\" class=\"dataframe\">\n",
       "  <thead>\n",
       "    <tr style=\"text-align: right;\">\n",
       "      <th></th>\n",
       "      <th>body</th>\n",
       "      <th>id</th>\n",
       "      <th>title</th>\n",
       "      <th>title_body</th>\n",
       "      <th>bias_predicted</th>\n",
       "    </tr>\n",
       "  </thead>\n",
       "  <tbody>\n",
       "    <tr>\n",
       "      <th>0</th>\n",
       "      <td>WASHINGTON -- The U.S. Attorney’s office in N...</td>\n",
       "      <td>270</td>\n",
       "      <td>U.S. Attorney Subpoenas Chris Christie Campaig...</td>\n",
       "      <td>u attorney subpoena chri christi campaign docu...</td>\n",
       "      <td>Center</td>\n",
       "    </tr>\n",
       "    <tr>\n",
       "      <th>1</th>\n",
       "      <td>Roger Stone, an eccentric longtime Republican...</td>\n",
       "      <td>271</td>\n",
       "      <td>Trump Associate Roger Stone Indicted In Muelle...</td>\n",
       "      <td>trump associ roger stone indict mueller invest...</td>\n",
       "      <td>Center</td>\n",
       "    </tr>\n",
       "    <tr>\n",
       "      <th>2</th>\n",
       "      <td>Democrats’ landmark campaign finance, voting ...</td>\n",
       "      <td>272</td>\n",
       "      <td>House Democrats Pass Landmark Campaign Finance...</td>\n",
       "      <td>hous democrat pass landmark campaign financ vo...</td>\n",
       "      <td>Right</td>\n",
       "    </tr>\n",
       "    <tr>\n",
       "      <th>3</th>\n",
       "      <td>WASHINGTON -- President Barack Obama on Frida...</td>\n",
       "      <td>273</td>\n",
       "      <td>Obama Defends NSA Programs, Says Congress Knew...</td>\n",
       "      <td>obama defend nsa program say congress knew sur...</td>\n",
       "      <td>Center</td>\n",
       "    </tr>\n",
       "    <tr>\n",
       "      <th>4</th>\n",
       "      <td>WASHINGTON — The lawmakers trotted from their...</td>\n",
       "      <td>274</td>\n",
       "      <td>Shooting Brings Rare Comity to the Capital, bu...</td>\n",
       "      <td>shoot bring rare comiti capit last washington ...</td>\n",
       "      <td>Center</td>\n",
       "    </tr>\n",
       "    <tr>\n",
       "      <th>5</th>\n",
       "      <td>Susan Rice, President Barack Obama's national...</td>\n",
       "      <td>275</td>\n",
       "      <td>Susan Rice: Netanyahu Visit 'Destructive' To U...</td>\n",
       "      <td>susan rice netanyahu visit destruct u israel r...</td>\n",
       "      <td>Center</td>\n",
       "    </tr>\n",
       "    <tr>\n",
       "      <th>6</th>\n",
       "      <td>WASHINGTON — The special counsel, Robert S. M...</td>\n",
       "      <td>276</td>\n",
       "      <td>Indicting Roger Stone, Mueller Shows Link Betw...</td>\n",
       "      <td>indict roger stone mueller show link trump cam...</td>\n",
       "      <td>Left</td>\n",
       "    </tr>\n",
       "    <tr>\n",
       "      <th>7</th>\n",
       "      <td>Mike Huckabee, a former Republican governor o...</td>\n",
       "      <td>277</td>\n",
       "      <td>Mike Huckabee on the Issues</td>\n",
       "      <td>mike huckabe issu mike huckabe former republic...</td>\n",
       "      <td>Center</td>\n",
       "    </tr>\n",
       "    <tr>\n",
       "      <th>8</th>\n",
       "      <td>WASHINGTON ― President Donald Trump’s offer t...</td>\n",
       "      <td>278</td>\n",
       "      <td>Trump's 'Compromise' Immigration Offer To Demo...</td>\n",
       "      <td>trump compromis immigr offer democrat includ m...</td>\n",
       "      <td>Center</td>\n",
       "    </tr>\n",
       "    <tr>\n",
       "      <th>9</th>\n",
       "      <td>The Obama administration found itself defendi...</td>\n",
       "      <td>279</td>\n",
       "      <td>Obama administration defends 2nd mass surveill...</td>\n",
       "      <td>obama administr defend 2nd mass surveil projec...</td>\n",
       "      <td>Center</td>\n",
       "    </tr>\n",
       "    <tr>\n",
       "      <th>10</th>\n",
       "      <td>President Donald Trump tweeted on Thursday th...</td>\n",
       "      <td>280</td>\n",
       "      <td>Trump Says Defense Secretary Jim Mattis Will R...</td>\n",
       "      <td>trump say defens secretari jim matti retir feb...</td>\n",
       "      <td>Center</td>\n",
       "    </tr>\n",
       "    <tr>\n",
       "      <th>11</th>\n",
       "      <td>WASHINGTON — President Trump on Monday said t...</td>\n",
       "      <td>281</td>\n",
       "      <td>F.B.I. 'Destroyed' Flynn’s Life for Lying, Tru...</td>\n",
       "      <td>f b destroy flynn life lie trump say noth happ...</td>\n",
       "      <td>Center</td>\n",
       "    </tr>\n",
       "    <tr>\n",
       "      <th>12</th>\n",
       "      <td>WASHINGTON — AARP, the powerful lobby for old...</td>\n",
       "      <td>282</td>\n",
       "      <td>AARP Open to Social Security Cuts</td>\n",
       "      <td>aarp open social secur cut washington aarp pow...</td>\n",
       "      <td>Center</td>\n",
       "    </tr>\n",
       "    <tr>\n",
       "      <th>13</th>\n",
       "      <td>Former Mexican President Vicente Fox on Wedne...</td>\n",
       "      <td>283</td>\n",
       "      <td>Former Mexican President Vicente Fox Slams Pre...</td>\n",
       "      <td>former mexican presid vicent fox slam presid e...</td>\n",
       "      <td>Center</td>\n",
       "    </tr>\n",
       "    <tr>\n",
       "      <th>14</th>\n",
       "      <td>WASHINGTON — Impeachment was always going to ...</td>\n",
       "      <td>284</td>\n",
       "      <td>Rashida Tlaib's Expletive-Laden Cry to Impeach...</td>\n",
       "      <td>rashida tlaib explet laden cri impeach trump u...</td>\n",
       "      <td>Center</td>\n",
       "    </tr>\n",
       "    <tr>\n",
       "      <th>15</th>\n",
       "      <td>Chris Christie Announces He's Running For Pre...</td>\n",
       "      <td>285</td>\n",
       "      <td>Chris Christie Announces He's Running For Pres...</td>\n",
       "      <td>chri christi announc run presid 2016 chri chri...</td>\n",
       "      <td>Center</td>\n",
       "    </tr>\n",
       "    <tr>\n",
       "      <th>16</th>\n",
       "      <td>Mary Cheney, the younger sister of Liz Cheney...</td>\n",
       "      <td>286</td>\n",
       "      <td>Mary Cheney Criticizes Her Sister on Same-Sex ...</td>\n",
       "      <td>mari cheney critic sister sex marriag mari che...</td>\n",
       "      <td>Center</td>\n",
       "    </tr>\n",
       "    <tr>\n",
       "      <th>17</th>\n",
       "      <td>WASHINGTON — A young Republican congressional...</td>\n",
       "      <td>287</td>\n",
       "      <td>G.O.P. Aide Quits After Ridiculing Obama’s Dau...</td>\n",
       "      <td>g p aid quit ridicul obama daughter sasha mali...</td>\n",
       "      <td>Center</td>\n",
       "    </tr>\n",
       "    <tr>\n",
       "      <th>18</th>\n",
       "      <td>A day after telling reporters that he's \"not ...</td>\n",
       "      <td>288</td>\n",
       "      <td>Anthony Weiner Twitter Photo Scandal: Congress...</td>\n",
       "      <td>anthoni weiner twitter photo scandal congressm...</td>\n",
       "      <td>Center</td>\n",
       "    </tr>\n",
       "    <tr>\n",
       "      <th>19</th>\n",
       "      <td>Paul Ryan went on offense Tuesday in response...</td>\n",
       "      <td>289</td>\n",
       "      <td>Ryan goes on offense over Medicare, accuses Ob...</td>\n",
       "      <td>ryan goe offens medicar accus obama treat prog...</td>\n",
       "      <td>Right</td>\n",
       "    </tr>\n",
       "    <tr>\n",
       "      <th>20</th>\n",
       "      <td>President Trump said he was preparing an exec...</td>\n",
       "      <td>290</td>\n",
       "      <td>President Wants to Use Executive Order to End ...</td>\n",
       "      <td>presid want use execut order end birthright ci...</td>\n",
       "      <td>Center</td>\n",
       "    </tr>\n",
       "    <tr>\n",
       "      <th>21</th>\n",
       "      <td>Republican officials in Alabama staunchly def...</td>\n",
       "      <td>291</td>\n",
       "      <td>Alabama Republicans Defend Roy Moore: ‘It Was ...</td>\n",
       "      <td>alabama republican defend roy moor 40 year ago...</td>\n",
       "      <td>Center</td>\n",
       "    </tr>\n",
       "    <tr>\n",
       "      <th>22</th>\n",
       "      <td>President Trump said Thursday he is “very clo...</td>\n",
       "      <td>292</td>\n",
       "      <td>Joe Lieberman emerges as Trump's top choice fo...</td>\n",
       "      <td>joe lieberman emerg trump top choic fbi direct...</td>\n",
       "      <td>Center</td>\n",
       "    </tr>\n",
       "    <tr>\n",
       "      <th>23</th>\n",
       "      <td>At almost all of his campaign rallies, Donald...</td>\n",
       "      <td>293</td>\n",
       "      <td>Vicente Fox and Felipe Calderón, 2 Ex-Presiden...</td>\n",
       "      <td>vicent fox felip calderón 2 ex presid mexico s...</td>\n",
       "      <td>Center</td>\n",
       "    </tr>\n",
       "    <tr>\n",
       "      <th>24</th>\n",
       "      <td>'Jail!' Trump slams 'crooked' Hillary aide Hu...</td>\n",
       "      <td>294</td>\n",
       "      <td>'Jail!' Trump slams 'crooked' Hillary aide Hum...</td>\n",
       "      <td>jail trump slam crook hillari aid huma call de...</td>\n",
       "      <td>Center</td>\n",
       "    </tr>\n",
       "    <tr>\n",
       "      <th>25</th>\n",
       "      <td>PHOENIX — As the Arizona Legislature sent a b...</td>\n",
       "      <td>295</td>\n",
       "      <td>Governor of Arizona Is Pressed to Veto Bill</td>\n",
       "      <td>governor arizona press veto bill phoenix arizo...</td>\n",
       "      <td>Center</td>\n",
       "    </tr>\n",
       "    <tr>\n",
       "      <th>26</th>\n",
       "      <td>The NAACP adopted a resolution Tuesday condem...</td>\n",
       "      <td>296</td>\n",
       "      <td>NAACP Resolution Calls on Tea Party to Repudia...</td>\n",
       "      <td>naacp resolut call tea parti repudi racist ele...</td>\n",
       "      <td>Center</td>\n",
       "    </tr>\n",
       "    <tr>\n",
       "      <th>27</th>\n",
       "      <td>Former Secretary of State Hillary Clinton use...</td>\n",
       "      <td>297</td>\n",
       "      <td>Hillary Clinton's use of private email address...</td>\n",
       "      <td>hillari clinton use privat email address secre...</td>\n",
       "      <td>Right</td>\n",
       "    </tr>\n",
       "    <tr>\n",
       "      <th>28</th>\n",
       "      <td>One of the highest-profile Republicans in the...</td>\n",
       "      <td>298</td>\n",
       "      <td>Third-Highest Ranking Republican In U.S. House...</td>\n",
       "      <td>third highest rank republican u hous call lega...</td>\n",
       "      <td>Center</td>\n",
       "    </tr>\n",
       "    <tr>\n",
       "      <th>29</th>\n",
       "      <td>The backlash to Indiana's new religious freed...</td>\n",
       "      <td>299</td>\n",
       "      <td>Washington gov, Seattle mayor ban official tra...</td>\n",
       "      <td>washington gov seattl mayor ban offici travel ...</td>\n",
       "      <td>Center</td>\n",
       "    </tr>\n",
       "  </tbody>\n",
       "</table>\n",
       "</div>"
      ],
      "text/plain": [
       "                                                 body   id  \\\n",
       "0    WASHINGTON -- The U.S. Attorney’s office in N...  270   \n",
       "1    Roger Stone, an eccentric longtime Republican...  271   \n",
       "2    Democrats’ landmark campaign finance, voting ...  272   \n",
       "3    WASHINGTON -- President Barack Obama on Frida...  273   \n",
       "4    WASHINGTON — The lawmakers trotted from their...  274   \n",
       "5    Susan Rice, President Barack Obama's national...  275   \n",
       "6    WASHINGTON — The special counsel, Robert S. M...  276   \n",
       "7    Mike Huckabee, a former Republican governor o...  277   \n",
       "8    WASHINGTON ― President Donald Trump’s offer t...  278   \n",
       "9    The Obama administration found itself defendi...  279   \n",
       "10   President Donald Trump tweeted on Thursday th...  280   \n",
       "11   WASHINGTON — President Trump on Monday said t...  281   \n",
       "12   WASHINGTON — AARP, the powerful lobby for old...  282   \n",
       "13   Former Mexican President Vicente Fox on Wedne...  283   \n",
       "14   WASHINGTON — Impeachment was always going to ...  284   \n",
       "15   Chris Christie Announces He's Running For Pre...  285   \n",
       "16   Mary Cheney, the younger sister of Liz Cheney...  286   \n",
       "17   WASHINGTON — A young Republican congressional...  287   \n",
       "18   A day after telling reporters that he's \"not ...  288   \n",
       "19   Paul Ryan went on offense Tuesday in response...  289   \n",
       "20   President Trump said he was preparing an exec...  290   \n",
       "21   Republican officials in Alabama staunchly def...  291   \n",
       "22   President Trump said Thursday he is “very clo...  292   \n",
       "23   At almost all of his campaign rallies, Donald...  293   \n",
       "24   'Jail!' Trump slams 'crooked' Hillary aide Hu...  294   \n",
       "25   PHOENIX — As the Arizona Legislature sent a b...  295   \n",
       "26   The NAACP adopted a resolution Tuesday condem...  296   \n",
       "27   Former Secretary of State Hillary Clinton use...  297   \n",
       "28   One of the highest-profile Republicans in the...  298   \n",
       "29   The backlash to Indiana's new religious freed...  299   \n",
       "\n",
       "                                                title  \\\n",
       "0   U.S. Attorney Subpoenas Chris Christie Campaig...   \n",
       "1   Trump Associate Roger Stone Indicted In Muelle...   \n",
       "2   House Democrats Pass Landmark Campaign Finance...   \n",
       "3   Obama Defends NSA Programs, Says Congress Knew...   \n",
       "4   Shooting Brings Rare Comity to the Capital, bu...   \n",
       "5   Susan Rice: Netanyahu Visit 'Destructive' To U...   \n",
       "6   Indicting Roger Stone, Mueller Shows Link Betw...   \n",
       "7                         Mike Huckabee on the Issues   \n",
       "8   Trump's 'Compromise' Immigration Offer To Demo...   \n",
       "9   Obama administration defends 2nd mass surveill...   \n",
       "10  Trump Says Defense Secretary Jim Mattis Will R...   \n",
       "11  F.B.I. 'Destroyed' Flynn’s Life for Lying, Tru...   \n",
       "12                  AARP Open to Social Security Cuts   \n",
       "13  Former Mexican President Vicente Fox Slams Pre...   \n",
       "14  Rashida Tlaib's Expletive-Laden Cry to Impeach...   \n",
       "15  Chris Christie Announces He's Running For Pres...   \n",
       "16  Mary Cheney Criticizes Her Sister on Same-Sex ...   \n",
       "17  G.O.P. Aide Quits After Ridiculing Obama’s Dau...   \n",
       "18  Anthony Weiner Twitter Photo Scandal: Congress...   \n",
       "19  Ryan goes on offense over Medicare, accuses Ob...   \n",
       "20  President Wants to Use Executive Order to End ...   \n",
       "21  Alabama Republicans Defend Roy Moore: ‘It Was ...   \n",
       "22  Joe Lieberman emerges as Trump's top choice fo...   \n",
       "23  Vicente Fox and Felipe Calderón, 2 Ex-Presiden...   \n",
       "24  'Jail!' Trump slams 'crooked' Hillary aide Hum...   \n",
       "25        Governor of Arizona Is Pressed to Veto Bill   \n",
       "26  NAACP Resolution Calls on Tea Party to Repudia...   \n",
       "27  Hillary Clinton's use of private email address...   \n",
       "28  Third-Highest Ranking Republican In U.S. House...   \n",
       "29  Washington gov, Seattle mayor ban official tra...   \n",
       "\n",
       "                                           title_body bias_predicted  \n",
       "0   u attorney subpoena chri christi campaign docu...         Center  \n",
       "1   trump associ roger stone indict mueller invest...         Center  \n",
       "2   hous democrat pass landmark campaign financ vo...          Right  \n",
       "3   obama defend nsa program say congress knew sur...         Center  \n",
       "4   shoot bring rare comiti capit last washington ...         Center  \n",
       "5   susan rice netanyahu visit destruct u israel r...         Center  \n",
       "6   indict roger stone mueller show link trump cam...           Left  \n",
       "7   mike huckabe issu mike huckabe former republic...         Center  \n",
       "8   trump compromis immigr offer democrat includ m...         Center  \n",
       "9   obama administr defend 2nd mass surveil projec...         Center  \n",
       "10  trump say defens secretari jim matti retir feb...         Center  \n",
       "11  f b destroy flynn life lie trump say noth happ...         Center  \n",
       "12  aarp open social secur cut washington aarp pow...         Center  \n",
       "13  former mexican presid vicent fox slam presid e...         Center  \n",
       "14  rashida tlaib explet laden cri impeach trump u...         Center  \n",
       "15  chri christi announc run presid 2016 chri chri...         Center  \n",
       "16  mari cheney critic sister sex marriag mari che...         Center  \n",
       "17  g p aid quit ridicul obama daughter sasha mali...         Center  \n",
       "18  anthoni weiner twitter photo scandal congressm...         Center  \n",
       "19  ryan goe offens medicar accus obama treat prog...          Right  \n",
       "20  presid want use execut order end birthright ci...         Center  \n",
       "21  alabama republican defend roy moor 40 year ago...         Center  \n",
       "22  joe lieberman emerg trump top choic fbi direct...         Center  \n",
       "23  vicent fox felip calderón 2 ex presid mexico s...         Center  \n",
       "24  jail trump slam crook hillari aid huma call de...         Center  \n",
       "25  governor arizona press veto bill phoenix arizo...         Center  \n",
       "26  naacp resolut call tea parti repudi racist ele...         Center  \n",
       "27  hillari clinton use privat email address secre...          Right  \n",
       "28  third highest rank republican u hous call lega...         Center  \n",
       "29  washington gov seattl mayor ban offici travel ...         Center  "
      ]
     },
     "execution_count": 116,
     "metadata": {},
     "output_type": "execute_result"
    }
   ],
   "source": [
    "test_df"
   ]
  },
  {
   "cell_type": "code",
   "execution_count": 117,
   "id": "2edbe2ea",
   "metadata": {
    "ExecuteTime": {
     "end_time": "2021-09-20T04:08:09.201140Z",
     "start_time": "2021-09-20T04:08:09.012066Z"
    }
   },
   "outputs": [],
   "source": [
    "test_df.to_csv('data/pred/bias_articles_test_pred.csv',\n",
    "               columns=['bias_predicted', 'id', 'title', 'body'],\n",
    "               index=False)"
   ]
  },
  {
   "cell_type": "code",
   "execution_count": null,
   "id": "83a6cd4d",
   "metadata": {},
   "outputs": [],
   "source": []
  }
 ],
 "metadata": {
  "kernelspec": {
   "display_name": "Python 3",
   "language": "python",
   "name": "python3"
  },
  "language_info": {
   "codemirror_mode": {
    "name": "ipython",
    "version": 3
   },
   "file_extension": ".py",
   "mimetype": "text/x-python",
   "name": "python",
   "nbconvert_exporter": "python",
   "pygments_lexer": "ipython3",
   "version": "3.9.7"
  }
 },
 "nbformat": 4,
 "nbformat_minor": 5
}
